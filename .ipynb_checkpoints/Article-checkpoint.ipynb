{
 "cells": [
  {
   "cell_type": "markdown",
   "metadata": {
    "toc": true
   },
   "source": [
    "<h1>Table of Contents<span class=\"tocSkip\"></span></h1>\n",
    "<div class=\"toc\"><ul class=\"toc-item\"><li><span><a href=\"#Approximating-a-step-function\" data-toc-modified-id=\"Approximating-a-step-function-1\"><span class=\"toc-item-num\">1&nbsp;&nbsp;</span>Approximating a step function</a></span><ul class=\"toc-item\"><li><span><a href=\"#Example\" data-toc-modified-id=\"Example-1.1\"><span class=\"toc-item-num\">1.1&nbsp;&nbsp;</span>Example</a></span></li></ul></li><li><span><a href=\"#A-two-variables-example\" data-toc-modified-id=\"A-two-variables-example-2\"><span class=\"toc-item-num\">2&nbsp;&nbsp;</span>A two variables example</a></span><ul class=\"toc-item\"><li><span><a href=\"#A-two-variables-example-(revisited)\" data-toc-modified-id=\"A-two-variables-example-(revisited)-2.1\"><span class=\"toc-item-num\">2.1&nbsp;&nbsp;</span>A two variables example (revisited)</a></span></li></ul></li><li><span><a href=\"#The-importance-of-Feature-Engineering\" data-toc-modified-id=\"The-importance-of-Feature-Engineering-3\"><span class=\"toc-item-num\">3&nbsp;&nbsp;</span>The importance of Feature Engineering</a></span></li><li><span><a href=\"#Nuclear-Mass-Models\" data-toc-modified-id=\"Nuclear-Mass-Models-4\"><span class=\"toc-item-num\">4&nbsp;&nbsp;</span>Nuclear Mass Models</a></span><ul class=\"toc-item\"><li><span><a href=\"#Liquid-Drop\" data-toc-modified-id=\"Liquid-Drop-4.1\"><span class=\"toc-item-num\">4.1&nbsp;&nbsp;</span>Liquid Drop</a></span></li><li><span><a href=\"#DZ10\" data-toc-modified-id=\"DZ10-4.2\"><span class=\"toc-item-num\">4.2&nbsp;&nbsp;</span>DZ10</a></span></li><li><span><a href=\"#DZ10:-Residues-Plots\" data-toc-modified-id=\"DZ10:-Residues-Plots-4.3\"><span class=\"toc-item-num\">4.3&nbsp;&nbsp;</span>DZ10: Residues Plots</a></span></li></ul></li></ul></div>"
   ]
  },
  {
   "cell_type": "markdown",
   "metadata": {},
   "source": [
    "# Approximating a step function\n",
    "\n",
    "With a decision tree, the function\n",
    "\n",
    "$$\n",
    "f:X \\rightarrow Y\n",
    "$$\n",
    "\n",
    "is approximated with a step function with $n$ steps:\n",
    "\n",
    "$$\n",
    "\\tilde{f} = \\sum_{i=0}^n \\alpha_i \\mathbb{I}(\\Omega_i)\n",
    "$$\n",
    "\n",
    "where \n",
    "\n",
    "$$\n",
    "\\Omega_i \\subseteq X\n",
    "$$\n",
    "\n",
    "and $\\mathbb{I}(\\Omega_i)$ is the indicator function\n",
    "\n",
    "$$\n",
    "\\mathbb{I}(\\Omega_i) = \\begin{cases}\n",
    "1 & x\\in \\Omega_i \\\\\n",
    "0 & x\\notin \\Omega_i \\\\\n",
    "\\end{cases}\n",
    "$$\n",
    "\n",
    "Of course the approximation would be more accurate when $f$ $is$ a step function. Consider for example\n",
    "\n",
    "$$\n",
    "f = \\begin{cases}\n",
    "0 & x\\in [0, 0.5) \\\\\n",
    "1 & x\\in [0.5, 1] \\\\\n",
    "\\end{cases}\n",
    "$$\n",
    "\n",
    "In order to define how good the approximation is, a function $\\mathcal{L}$ should be maximized (or minimized). There is no strict requirements for the function to be a distance, but here we consider the $\\mathbb{L}^2$ norm of the difference between $f$ and $\\tilde{f}$:\n",
    "\n",
    "$$\n",
    "\\mathcal{L} = \\|f - \\tilde{f}\\|_2\n",
    "$$\n",
    "\n",
    "## Example\n",
    "\n",
    "As an example training set $X_{tr}$ is defined instead as the union of two sets $X_1$ and $X_2$. $X_1$ the set of random points uniformly distributed in $[0, 0.5)$:\n",
    "\n",
    "$$\n",
    "X_1 = \\left\\{x_1|x_1 \\sim \\mathcal{U}(0,0.5)\\right\\}\n",
    "$$\n",
    "\n",
    "and analogously for $X_2$ \n",
    "\n",
    "$$\n",
    "X_2 = \\left\\{x_2|x_2 \\sim \\mathcal{U}(0.5,1.0)\\right\\}\n",
    "$$\n",
    "\n",
    "$$\n",
    "X_{tr} = X_1 \\cup X_2, \\quad X_1 \\cap X_2 = \\emptyset\n",
    "$$\n",
    "\n",
    "Instead, for the images through $f$ of $X_1$ and $X_2$ ($Y_1$ and $Y_2$ respectively):\n",
    "\n",
    "$$\n",
    "Y_1 = \\left\\{y_1|x_1 \\sim \\mathcal{N}(0, 0.05)\\right\\}\n",
    "$$\n",
    "\n",
    "and analogously for $X_2$ \n",
    "\n",
    "$$\n",
    "Y_2 = \\left\\{y_2|x_2 \\sim \\mathcal{N}(1, 0.1)\\right\\}\n",
    "$$\n",
    "\n",
    "Graphically, for example"
   ]
  },
  {
   "cell_type": "code",
   "execution_count": 1,
   "metadata": {
    "ExecuteTime": {
     "end_time": "2020-04-23T12:37:48.652907Z",
     "start_time": "2020-04-23T12:37:48.507429Z"
    }
   },
   "outputs": [],
   "source": [
    "import numpy as np\n",
    "\n",
    "np.random.seed(2020)\n",
    "x_1 = np.random.random(50) * 0.5\n",
    "x_2 = np.random.random(50) * 0.5 + 0.5\n",
    "y_1 = np.random.normal(0, 0.05, 50)\n",
    "y_2 = np.random.normal(1, 0.1, 50)\n",
    "\n",
    "X = np.array(list(x_1) + list(x_2))\n",
    "X.sort()\n",
    "Y = np.array(list(y_1) + list(y_2))"
   ]
  },
  {
   "cell_type": "code",
   "execution_count": 2,
   "metadata": {
    "ExecuteTime": {
     "end_time": "2020-04-23T12:37:49.331677Z",
     "start_time": "2020-04-23T12:37:48.655328Z"
    }
   },
   "outputs": [
    {
     "data": {
      "image/png": "[encoded data removed]",
      "text/plain": [
       "<Figure size 288x288 with 1 Axes>"
      ]
     },
     "metadata": {
      "needs_background": "light"
     },
     "output_type": "display_data"
    }
   ],
   "source": [
    "from matplotlib import rc\n",
    "import matplotlib.pyplot as plt\n",
    "\n",
    "%matplotlib inline\n",
    "\n",
    "rc(\"font\", **{\"family\": \"sans-serif\", \"sans-serif\": [\"DejaVu Sans\"]})\n",
    "rc(\"text\", usetex=False)\n",
    "\n",
    "plt.figure(figsize=(4, 4))\n",
    "plt.xlabel(\"X\")\n",
    "plt.ylabel(\"Y\")\n",
    "plt.plot(X, Y, \"o\")\n",
    "plt.savefig(\"decision_tree_single_split.pdf\", dpi=600, bbox_inches=\"tight\")\n",
    "plt.show()"
   ]
  },
  {
   "cell_type": "markdown",
   "metadata": {},
   "source": [
    "To train a decision tree means finding a function $\\tilde{f}$:\n",
    "\n",
    "$$\n",
    "\\tilde{f} = \\sum_{i=0}^1 \\alpha_i \\mathbb{I}(\\Omega_i)\n",
    "$$\n",
    "\n",
    "where $\\alpha_i$ are constant and $\\Omega_i$ a half-space \n",
    "\n",
    "$$\n",
    "\\Omega_0 = \\left\\{x |x \\leq x_* \\right\\}\n",
    "$$\n",
    "\n",
    "$$\n",
    "\\Omega_1 = \\left\\{x |x > x_* \\right\\}\n",
    "$$\n",
    "\n",
    "in such a way that \n",
    "\n",
    "$$\n",
    "\\mathcal{L} = \\|f - \\alpha_0 \\mathbb{I}(x\\leq x_*) - \\alpha_1 \\mathbb{I}(x>x_*)\\|_2\n",
    "$$\n",
    "\n",
    "is minimal. It is easy to proof that the constant better approximating in terms of $\\mathbb{L}^2$ norm a set of values is the average of the values. Thus, in reality:\n",
    "\n",
    "$$\n",
    "\\alpha_0 = \\mathbb{E}_{\\{x \\leq x_*\\}}(x)\n",
    "$$\n",
    "\n",
    "$$\n",
    "\\alpha_1 = \\mathbb{E}_{\\{x > x_*\\}}(x)\n",
    "$$\n",
    "\n",
    "Then the code is simply:"
   ]
  },
  {
   "cell_type": "code",
   "execution_count": 3,
   "metadata": {
    "ExecuteTime": {
     "end_time": "2020-04-23T12:37:49.352084Z",
     "start_time": "2020-04-23T12:37:49.334013Z"
    }
   },
   "outputs": [],
   "source": [
    "L = np.zeros(len(X))\n",
    "alpha_0 = np.zeros(len(X))\n",
    "alpha_1 = np.zeros(len(X))\n",
    "var_0 = np.zeros(len(X))\n",
    "var_1 = np.zeros(len(X))\n",
    "\n",
    "for i, x in enumerate(sorted(X[:-1])):\n",
    "    alpha_0[i] = np.mean(Y[X <= x])\n",
    "    alpha_1[i] = np.mean(Y[X > x])\n",
    "    var_0[i] = np.var(Y[X <= x])\n",
    "    var_1[i] = np.var(Y[X > x])\n",
    "    L[i] = var_0[i] + var_1[i]"
   ]
  },
  {
   "cell_type": "code",
   "execution_count": 4,
   "metadata": {
    "ExecuteTime": {
     "end_time": "2020-04-23T12:37:49.808935Z",
     "start_time": "2020-04-23T12:37:49.354756Z"
    }
   },
   "outputs": [
    {
     "data": {
      "image/png": "[encoded data removed]",
      "text/plain": [
       "<Figure size 288x288 with 1 Axes>"
      ]
     },
     "metadata": {
      "needs_background": "light"
     },
     "output_type": "display_data"
    }
   ],
   "source": [
    "rc(\"font\", **{\"family\": \"sans-serif\", \"sans-serif\": [\"DejaVu Sans\"]})\n",
    "rc(\"text\", usetex=False)\n",
    "\n",
    "plt.figure(figsize=(4, 4))\n",
    "plt.xlabel(\"$x_*$\")\n",
    "plt.ylabel(\"$\\mathcal{L}$\")\n",
    "plt.plot(X[:-1], L[:-1], \"o\")\n",
    "plt.savefig(\"variance_sum.pdf\", dpi=600, bbox_inches=\"tight\")\n",
    "plt.show()"
   ]
  },
  {
   "cell_type": "code",
   "execution_count": 5,
   "metadata": {
    "ExecuteTime": {
     "end_time": "2020-04-23T12:37:49.817172Z",
     "start_time": "2020-04-23T12:37:49.812673Z"
    }
   },
   "outputs": [
    {
     "name": "stdout",
     "output_type": "stream",
     "text": [
      "49\n"
     ]
    }
   ],
   "source": [
    "argmin = np.argmin(L[:-1])\n",
    "print(argmin)"
   ]
  },
  {
   "cell_type": "code",
   "execution_count": 6,
   "metadata": {
    "ExecuteTime": {
     "end_time": "2020-04-23T12:37:49.836519Z",
     "start_time": "2020-04-23T12:37:49.820868Z"
    }
   },
   "outputs": [
    {
     "name": "stdout",
     "output_type": "stream",
     "text": [
      "0.4931384144307994\n",
      "0.00294933247103885\n",
      "1.00663127011036\n",
      "0.0021376086613367163\n",
      "0.01124401780269872\n",
      "0.04623428015376379\n",
      "0.10603781307957422\n"
     ]
    }
   ],
   "source": [
    "print(X[argmin])\n",
    "print(alpha_0[argmin])\n",
    "print(alpha_1[argmin])\n",
    "print(var_0[argmin])\n",
    "print(var_1[argmin])\n",
    "print(np.sqrt(var_0[argmin]))\n",
    "print(np.sqrt(var_1[argmin]))"
   ]
  },
  {
   "cell_type": "markdown",
   "metadata": {},
   "source": [
    "Remark: the standard deviation is the square root of the MSE on each half space. "
   ]
  },
  {
   "cell_type": "code",
   "execution_count": 7,
   "metadata": {
    "ExecuteTime": {
     "end_time": "2020-04-23T12:37:50.203756Z",
     "start_time": "2020-04-23T12:37:49.838618Z"
    }
   },
   "outputs": [
    {
     "data": {
      "image/png": "[encoded data removed]",
      "text/plain": [
       "<Figure size 288x288 with 1 Axes>"
      ]
     },
     "metadata": {
      "needs_background": "light"
     },
     "output_type": "display_data"
    }
   ],
   "source": [
    "rc(\"font\", **{\"family\": \"sans-serif\", \"sans-serif\": [\"DejaVu Sans\"]})\n",
    "rc(\"text\", usetex=False)\n",
    "\n",
    "plt.figure(figsize=(4, 4))\n",
    "plt.xlabel(\"X\")\n",
    "plt.ylabel(\"Y\")\n",
    "plt.plot(X, Y, \"o\")\n",
    "plt.step(\n",
    "    [0, X[argmin], 1], [alpha_0[argmin], alpha_1[argmin], alpha_1[argmin]], where=\"post\"\n",
    ")\n",
    "plt.savefig(\"decision_tree_single_split_found.pdf\", dpi=600, bbox_inches=\"tight\")\n",
    "plt.show()"
   ]
  },
  {
   "cell_type": "markdown",
   "metadata": {},
   "source": [
    "# A two variables example\n",
    "\n",
    "Consider a different problem with two variables:\n",
    "\n",
    "$$\n",
    "X = \\left\\{(x_1, x_2) |x_1 \\sim \\mathcal{U}(0,1), x_2 \\sim \\mathcal{U}(0,1)\\right\\}\n",
    "$$\n",
    "\n",
    "with response\n",
    "\n",
    "$$\n",
    "Y = \\begin{cases}\n",
    "10.0 & \\left\\{(x_1, x_2) \\in X | x_1 \\leq 0.5\\right\\}\\\\\n",
    "1.0 & \\left\\{(x_1, x_2) \\in X | x_1 > 0.5, x_2 \\leq 0.5\\right\\} \\\\\n",
    "0.0 & \\left\\{(x_1, x_2) \\in X | x_1 > 0.5, x_2 > 0.5\\right\\} \\\\\n",
    "\\end{cases}\n",
    "$$\n",
    "\n",
    "Graphically (code is written for readability and not for being Pythonic):"
   ]
  },
  {
   "cell_type": "code",
   "execution_count": 8,
   "metadata": {
    "ExecuteTime": {
     "end_time": "2020-04-23T12:37:50.563412Z",
     "start_time": "2020-04-23T12:37:50.205981Z"
    }
   },
   "outputs": [
    {
     "data": {
      "image/png": "[encoded data removed]",
      "text/plain": [
       "<Figure size 288x288 with 1 Axes>"
      ]
     },
     "metadata": {
      "needs_background": "light"
     },
     "output_type": "display_data"
    }
   ],
   "source": [
    "np.random.seed(2020)\n",
    "N = 100\n",
    "x_1 = np.random.random(N)\n",
    "x_2 = np.random.random(N)\n",
    "Y = np.zeros(N)\n",
    "\n",
    "for i in range(N):\n",
    "    if x_1[i] <= 0.5:\n",
    "        Y[i] = 10\n",
    "    elif x_1[i] > 0.5 and x_2[i] <= 0.5:\n",
    "        Y[i] = 1.0\n",
    "\n",
    "\n",
    "rc(\"font\", **{\"family\": \"sans-serif\", \"sans-serif\": [\"DejaVu Sans\"]})\n",
    "rc(\"text\", usetex=False)\n",
    "\n",
    "\n",
    "plt.figure(figsize=(4, 4))\n",
    "plt.xlim((-0.05, 1.05))\n",
    "plt.ylim((-0.05, 1.05))\n",
    "plt.xlabel(\"$x_1$\")\n",
    "plt.ylabel(\"$x_2$\")\n",
    "plt.plot(x_1[Y == 10], x_2[Y == 10], \"s\")\n",
    "plt.plot(x_1[Y == 1], x_2[Y == 1], \"v\")\n",
    "plt.plot(x_1[Y == 0], x_2[Y == 0], \".\")\n",
    "plt.savefig(\"decision_tree_two_variables.pdf\", dpi=600, bbox_inches=\"tight\")\n",
    "plt.show()"
   ]
  },
  {
   "cell_type": "markdown",
   "metadata": {},
   "source": [
    "Splitting on the first variable:"
   ]
  },
  {
   "cell_type": "code",
   "execution_count": 9,
   "metadata": {
    "ExecuteTime": {
     "end_time": "2020-04-23T12:37:50.580891Z",
     "start_time": "2020-04-23T12:37:50.565917Z"
    }
   },
   "outputs": [],
   "source": [
    "L1 = np.zeros(len(x_1))\n",
    "alpha_0 = np.zeros(len(x_1))\n",
    "alpha_1 = np.zeros(len(x_1))\n",
    "var_0 = np.zeros(len(x_1))\n",
    "var_1 = np.zeros(len(x_1))\n",
    "\n",
    "for i, x in enumerate(sorted(x_1)[:-1]):\n",
    "    alpha_0[i] = np.mean(Y[x_1 <= x])\n",
    "    alpha_1[i] = np.mean(Y[x_1 > x])\n",
    "    var_0[i] = np.var(Y[x_1 <= x])\n",
    "    var_1[i] = np.var(Y[x_1 > x])\n",
    "    L1[i] = var_0[i] + var_1[i]"
   ]
  },
  {
   "cell_type": "code",
   "execution_count": 10,
   "metadata": {
    "ExecuteTime": {
     "end_time": "2020-04-23T12:37:50.601530Z",
     "start_time": "2020-04-23T12:37:50.583914Z"
    }
   },
   "outputs": [
    {
     "name": "stdout",
     "output_type": "stream",
     "text": [
      "0.48281012636137444\n",
      "0.24959999999999996\n"
     ]
    }
   ],
   "source": [
    "argmin = np.argmin(L1[:-1])\n",
    "x_1_s = sorted(x_1)[argmin]\n",
    "print(x_1_s)\n",
    "print(L1[argmin])"
   ]
  },
  {
   "cell_type": "code",
   "execution_count": 11,
   "metadata": {
    "ExecuteTime": {
     "end_time": "2020-04-23T12:37:50.633201Z",
     "start_time": "2020-04-23T12:37:50.603958Z"
    }
   },
   "outputs": [],
   "source": [
    "L2 = np.zeros(len(x_2))\n",
    "alpha_0 = np.zeros(len(x_2))\n",
    "alpha_1 = np.zeros(len(x_2))\n",
    "var_0 = np.zeros(len(x_2))\n",
    "var_1 = np.zeros(len(x_2))\n",
    "\n",
    "for i, x in enumerate(sorted(x_2)[:-1]):\n",
    "    alpha_0[i] = np.mean(Y[x_2 <= x])\n",
    "    alpha_1[i] = np.mean(Y[x_2 > x])\n",
    "    var_0[i] = np.var(Y[x_2 <= x])\n",
    "    var_1[i] = np.var(Y[x_2 > x])\n",
    "    L2[i] = var_0[i] + var_1[i]"
   ]
  },
  {
   "cell_type": "code",
   "execution_count": 12,
   "metadata": {
    "ExecuteTime": {
     "end_time": "2020-04-23T12:37:50.657104Z",
     "start_time": "2020-04-23T12:37:50.634992Z"
    }
   },
   "outputs": [
    {
     "name": "stdout",
     "output_type": "stream",
     "text": [
      "0.9907878615970517\n",
      "22.675551853394424\n"
     ]
    }
   ],
   "source": [
    "argmin = np.argmin(L2[:-1])\n",
    "x_2_s = sorted(x_2)[argmin]\n",
    "print(sorted(x_2)[argmin])\n",
    "print(L2[argmin])"
   ]
  },
  {
   "cell_type": "code",
   "execution_count": 13,
   "metadata": {
    "ExecuteTime": {
     "end_time": "2020-04-23T12:37:51.295644Z",
     "start_time": "2020-04-23T12:37:50.659447Z"
    }
   },
   "outputs": [
    {
     "data": {
      "image/png": "[encoded data removed]",
      "text/plain": [
       "<Figure size 288x288 with 1 Axes>"
      ]
     },
     "metadata": {
      "needs_background": "light"
     },
     "output_type": "display_data"
    }
   ],
   "source": [
    "rc(\"font\", **{\"family\": \"sans-serif\", \"sans-serif\": [\"DejaVu Sans\"]})\n",
    "rc(\"text\", usetex=False)\n",
    "\n",
    "\n",
    "plt.figure(figsize=(4, 4))\n",
    "plt.xlabel(\"$x_*$\")\n",
    "plt.ylabel(\"$\\mathcal{L}$\")\n",
    "plt.title(\"Values of $\\mathcal{L}$ for different splitting points $x_*$\")\n",
    "plt.plot(sorted(x_1)[:-1], L1[:-1] / max(L1), \".\", label=\"$\\mathrm{Split\\, on}\\,x_1$\")\n",
    "plt.plot(sorted(x_2)[:-1], L2[:-1] / max(L2), \"s\", label=\"$\\mathrm{Split\\, on}\\,x_2$\")\n",
    "plt.legend()\n",
    "plt.savefig(\"variance_two_variables_sum.pdf\", dpi=600, bbox_inches=\"tight\")\n",
    "plt.show()"
   ]
  },
  {
   "cell_type": "markdown",
   "metadata": {},
   "source": [
    "The best split is then on $x_1$, for $x_* \\simeq 0.483$. Can data can be split further? For the half plane $x_1 \\leq 0.426$ it does not make sense, as the values of $Y$ are constant. For the half plane \n",
    "$x_1 > 0.483$ instead, we select the subset of data in the plane:"
   ]
  },
  {
   "cell_type": "code",
   "execution_count": 14,
   "metadata": {
    "ExecuteTime": {
     "end_time": "2020-04-23T12:37:51.301639Z",
     "start_time": "2020-04-23T12:37:51.297470Z"
    }
   },
   "outputs": [],
   "source": [
    "x_1_r = x_1[x_1 > x_1_s]\n",
    "x_2_r = x_2[x_1 > x_1_s]\n",
    "Y_r = Y[x_1 > x_1_s]"
   ]
  },
  {
   "cell_type": "code",
   "execution_count": 15,
   "metadata": {
    "ExecuteTime": {
     "end_time": "2020-04-23T12:37:51.323982Z",
     "start_time": "2020-04-23T12:37:51.304099Z"
    }
   },
   "outputs": [],
   "source": [
    "L3 = np.zeros(len(x_1_r))\n",
    "alpha_0 = np.zeros(len(x_1_r))\n",
    "alpha_1 = np.zeros(len(x_1_r))\n",
    "var_0 = np.zeros(len(x_1_r))\n",
    "var_1 = np.zeros(len(x_1_r))\n",
    "\n",
    "for i, x in enumerate(sorted(x_1_r)[:-1]):\n",
    "    alpha_0[i] = np.mean(Y_r[x_1_r <= x])\n",
    "    alpha_1[i] = np.mean(Y_r[x_1_r > x])\n",
    "    var_0[i] = np.var(Y_r[x_1_r <= x])\n",
    "    var_1[i] = np.var(Y_r[x_1_r > x])\n",
    "    L3[i] = var_0[i] + var_1[i]"
   ]
  },
  {
   "cell_type": "code",
   "execution_count": 16,
   "metadata": {
    "ExecuteTime": {
     "end_time": "2020-04-23T12:37:51.341563Z",
     "start_time": "2020-04-23T12:37:51.328350Z"
    }
   },
   "outputs": [
    {
     "name": "stdout",
     "output_type": "stream",
     "text": [
      "0.9862768288615988\n",
      "0.2498958767180341\n"
     ]
    }
   ],
   "source": [
    "argmin = np.argmin(L3[:-1])\n",
    "x_1_r_s = sorted(x_1_r)[argmin]\n",
    "print(x_1_r_s)\n",
    "print(L3[argmin])"
   ]
  },
  {
   "cell_type": "code",
   "execution_count": 17,
   "metadata": {
    "ExecuteTime": {
     "end_time": "2020-04-23T12:37:51.368372Z",
     "start_time": "2020-04-23T12:37:51.345499Z"
    }
   },
   "outputs": [],
   "source": [
    "L4 = np.zeros(len(x_1_r))\n",
    "alpha_0 = np.zeros(len(x_1_r))\n",
    "alpha_1 = np.zeros(len(x_1_r))\n",
    "var_0 = np.zeros(len(x_1_r))\n",
    "var_1 = np.zeros(len(x_1_r))\n",
    "\n",
    "for i, x in enumerate(sorted(x_2_r)[:-1]):\n",
    "    alpha_0[i] = np.mean(Y_r[x_2_r <= x])\n",
    "    alpha_1[i] = np.mean(Y_r[x_2_r > x])\n",
    "    var_0[i] = np.var(Y_r[x_2_r <= x])\n",
    "    var_1[i] = np.var(Y_r[x_2_r > x])\n",
    "    L4[i] = var_0[i] + var_1[i]"
   ]
  },
  {
   "cell_type": "code",
   "execution_count": 18,
   "metadata": {
    "ExecuteTime": {
     "end_time": "2020-04-23T12:37:51.390090Z",
     "start_time": "2020-04-23T12:37:51.371887Z"
    }
   },
   "outputs": [
    {
     "name": "stdout",
     "output_type": "stream",
     "text": [
      "0.49497450782347385\n",
      "0.0\n"
     ]
    }
   ],
   "source": [
    "argmin = np.argmin(L4[:-1])\n",
    "x_2_r_s = sorted(x_2_r)[argmin]\n",
    "print(x_2_r_s)\n",
    "print(L4[argmin])"
   ]
  },
  {
   "cell_type": "code",
   "execution_count": 19,
   "metadata": {
    "ExecuteTime": {
     "end_time": "2020-04-23T12:37:51.927933Z",
     "start_time": "2020-04-23T12:37:51.392651Z"
    }
   },
   "outputs": [
    {
     "data": {
      "image/png": "[encoded data removed]",
      "text/plain": [
       "<Figure size 288x288 with 1 Axes>"
      ]
     },
     "metadata": {
      "needs_background": "light"
     },
     "output_type": "display_data"
    }
   ],
   "source": [
    "rc(\"font\", **{\"family\": \"sans-serif\", \"sans-serif\": [\"DejaVu Sans\"]})\n",
    "rc(\"text\", usetex=False)\n",
    "\n",
    "plt.figure(figsize=(4, 4))\n",
    "plt.xlabel(\"$x_*$\")\n",
    "plt.ylabel(\"$\\mathcal{L}$\")\n",
    "plt.title(\"Values of $\\mathcal{L}$ for different splitting points $x_*$\")\n",
    "plt.plot(\n",
    "    sorted(x_1_r)[:-1], L3[:-1] / max(L3), \".\", label=\"$\\mathrm{Split\\, on}\\, x_1$\"\n",
    ")\n",
    "plt.plot(\n",
    "    sorted(x_2_r)[:-1], L4[:-1] / max(L4), \"s\", label=\"$\\mathrm{Split\\, on}\\, x_2$\"\n",
    ")\n",
    "plt.legend()\n",
    "plt.savefig(\"variance_two_variables_sum_2.pdf\", dpi=600, bbox_inches=\"tight\")\n",
    "plt.show()"
   ]
  },
  {
   "cell_type": "markdown",
   "metadata": {},
   "source": [
    "Thus, split on the second variable for $x_2 \\simeq 0.495$."
   ]
  },
  {
   "cell_type": "code",
   "execution_count": 20,
   "metadata": {
    "ExecuteTime": {
     "end_time": "2020-04-23T12:37:52.288565Z",
     "start_time": "2020-04-23T12:37:51.930115Z"
    }
   },
   "outputs": [
    {
     "data": {
      "image/png": "[encoded data removed]",
      "text/plain": [
       "<Figure size 288x288 with 1 Axes>"
      ]
     },
     "metadata": {
      "needs_background": "light"
     },
     "output_type": "display_data"
    }
   ],
   "source": [
    "rc(\"font\", **{\"family\": \"sans-serif\", \"sans-serif\": [\"DejaVu Sans\"]})\n",
    "rc(\"text\", usetex=False)\n",
    "\n",
    "\n",
    "plt.figure(figsize=(4, 4))\n",
    "plt.xlim((-0.05, 1.05))\n",
    "plt.ylim((-0.05, 1.05))\n",
    "plt.xlabel(\"$x_1$\")\n",
    "plt.ylabel(\"$x_2$\")\n",
    "plt.plot(x_1[Y == 10], x_2[Y == 10], \"s\")\n",
    "plt.plot(x_1[Y == 1], x_2[Y == 1], \"v\")\n",
    "plt.plot(x_1[Y == 0], x_2[Y == 0], \"o\")\n",
    "plt.axvline(x=x_1_s, linestyle=\"-\", color=\"k\")\n",
    "plt.plot((x_1_s, 1.05), (x_2_r_s, x_2_r_s), linestyle=\":\")\n",
    "plt.savefig(\"decision_tree_two_variables_first_split.pdf\", dpi=600, bbox_inches=\"tight\")\n",
    "plt.show()"
   ]
  },
  {
   "cell_type": "markdown",
   "metadata": {},
   "source": [
    "## A two variables example (revisited)"
   ]
  },
  {
   "cell_type": "code",
   "execution_count": 21,
   "metadata": {
    "ExecuteTime": {
     "end_time": "2020-04-23T12:37:52.589708Z",
     "start_time": "2020-04-23T12:37:52.290760Z"
    }
   },
   "outputs": [
    {
     "data": {
      "text/html": [
       "<div>\n",
       "<style scoped>\n",
       "    .dataframe tbody tr th:only-of-type {\n",
       "        vertical-align: middle;\n",
       "    }\n",
       "\n",
       "    .dataframe tbody tr th {\n",
       "        vertical-align: top;\n",
       "    }\n",
       "\n",
       "    .dataframe thead th {\n",
       "        text-align: right;\n",
       "    }\n",
       "</style>\n",
       "<table border=\"1\" class=\"dataframe\">\n",
       "  <thead>\n",
       "    <tr style=\"text-align: right;\">\n",
       "      <th></th>\n",
       "      <th>$x_1$</th>\n",
       "      <th>$x_2$</th>\n",
       "    </tr>\n",
       "  </thead>\n",
       "  <tbody>\n",
       "    <tr>\n",
       "      <th>0</th>\n",
       "      <td>0.986277</td>\n",
       "      <td>0.269289</td>\n",
       "    </tr>\n",
       "    <tr>\n",
       "      <th>1</th>\n",
       "      <td>0.873392</td>\n",
       "      <td>0.944269</td>\n",
       "    </tr>\n",
       "    <tr>\n",
       "      <th>2</th>\n",
       "      <td>0.509746</td>\n",
       "      <td>0.295441</td>\n",
       "    </tr>\n",
       "    <tr>\n",
       "      <th>3</th>\n",
       "      <td>0.271836</td>\n",
       "      <td>0.151560</td>\n",
       "    </tr>\n",
       "    <tr>\n",
       "      <th>4</th>\n",
       "      <td>0.336919</td>\n",
       "      <td>0.272543</td>\n",
       "    </tr>\n",
       "  </tbody>\n",
       "</table>\n",
       "</div>"
      ],
      "text/plain": [
       "      $x_1$     $x_2$\n",
       "0  0.986277  0.269289\n",
       "1  0.873392  0.944269\n",
       "2  0.509746  0.295441\n",
       "3  0.271836  0.151560\n",
       "4  0.336919  0.272543"
      ]
     },
     "execution_count": 21,
     "metadata": {},
     "output_type": "execute_result"
    }
   ],
   "source": [
    "import pandas as pd\n",
    "\n",
    "df = pd.DataFrame({\"$x_1$\": x_1, \"$x_2$\": x_2,})\n",
    "df.head()"
   ]
  },
  {
   "cell_type": "code",
   "execution_count": 22,
   "metadata": {
    "ExecuteTime": {
     "end_time": "2020-04-23T12:37:53.103172Z",
     "start_time": "2020-04-23T12:37:52.591409Z"
    }
   },
   "outputs": [
    {
     "name": "stdout",
     "output_type": "stream",
     "text": [
      "DecisionTreeRegressor(ccp_alpha=0.0, criterion='mse', max_depth=None,\n",
      "                      max_features=None, max_leaf_nodes=3,\n",
      "                      min_impurity_decrease=0.0, min_impurity_split=None,\n",
      "                      min_samples_leaf=1, min_samples_split=2,\n",
      "                      min_weight_fraction_leaf=0.0, presort='deprecated',\n",
      "                      random_state=None, splitter='best')\n"
     ]
    }
   ],
   "source": [
    "from sklearn.tree import DecisionTreeRegressor\n",
    "\n",
    "model = DecisionTreeRegressor(max_leaf_nodes=3).fit(df, Y)\n",
    "print(model)"
   ]
  },
  {
   "cell_type": "markdown",
   "metadata": {},
   "source": [
    "Replacing the font for compatibility with plot_tree:"
   ]
  },
  {
   "cell_type": "code",
   "execution_count": 23,
   "metadata": {
    "ExecuteTime": {
     "end_time": "2020-04-23T12:37:53.439896Z",
     "start_time": "2020-04-23T12:37:53.105544Z"
    }
   },
   "outputs": [
    {
     "data": {
      "image/png": "[encoded data removed]",
      "text/plain": [
       "<Figure size 288x288 with 1 Axes>"
      ]
     },
     "metadata": {
      "needs_background": "light"
     },
     "output_type": "display_data"
    }
   ],
   "source": [
    "from sklearn.tree import plot_tree\n",
    "\n",
    "rc(\"font\", **{\"family\": \"sans-serif\", \"sans-serif\": [\"DejaVu Sans\"]})\n",
    "rc(\"text\", usetex=False)\n",
    "\n",
    "plt.figure(figsize=(4, 4))\n",
    "plot_tree(model, filled=False, feature_names=[\"x_1\", \"x_2\"])\n",
    "plt.savefig(\"Decision_tree_sklearn.pdf\", dpi=600, bbox_inches=\"tight\")\n",
    "plt.show()"
   ]
  },
  {
   "cell_type": "markdown",
   "metadata": {},
   "source": [
    "We split including the value in the right half-plane. Another possible approach (scikit learn and rpart) is to take the value for splitting, the following and doing the average."
   ]
  },
  {
   "cell_type": "code",
   "execution_count": 24,
   "metadata": {
    "ExecuteTime": {
     "end_time": "2020-04-23T12:37:53.447964Z",
     "start_time": "2020-04-23T12:37:53.442150Z"
    }
   },
   "outputs": [
    {
     "data": {
      "text/plain": [
       "[0.48281012636137444, 0.5033670609602782]"
      ]
     },
     "execution_count": 24,
     "metadata": {},
     "output_type": "execute_result"
    }
   ],
   "source": [
    "sorted(x_1)[49:51]"
   ]
  },
  {
   "cell_type": "code",
   "execution_count": 25,
   "metadata": {
    "ExecuteTime": {
     "end_time": "2020-04-23T12:37:53.463916Z",
     "start_time": "2020-04-23T12:37:53.450212Z"
    }
   },
   "outputs": [
    {
     "data": {
      "text/plain": [
       "[0.49497450782347385, 0.5591430350510501]"
      ]
     },
     "execution_count": 25,
     "metadata": {},
     "output_type": "execute_result"
    }
   ],
   "source": [
    "sorted(x_2_r)[23:25]"
   ]
  },
  {
   "cell_type": "code",
   "execution_count": 26,
   "metadata": {
    "ExecuteTime": {
     "end_time": "2020-04-23T12:37:53.479231Z",
     "start_time": "2020-04-23T12:37:53.466004Z"
    }
   },
   "outputs": [
    {
     "name": "stdout",
     "output_type": "stream",
     "text": [
      "0.4930885936608263\n"
     ]
    }
   ],
   "source": [
    "print(np.mean(sorted(x_1)[49:51]))"
   ]
  },
  {
   "cell_type": "code",
   "execution_count": 27,
   "metadata": {
    "ExecuteTime": {
     "end_time": "2020-04-23T12:37:53.493811Z",
     "start_time": "2020-04-23T12:37:53.481734Z"
    }
   },
   "outputs": [
    {
     "name": "stdout",
     "output_type": "stream",
     "text": [
      "0.527058771437262\n"
     ]
    }
   ],
   "source": [
    "print(np.mean(sorted(x_2_r)[23:25]))"
   ]
  },
  {
   "cell_type": "code",
   "execution_count": 28,
   "metadata": {
    "ExecuteTime": {
     "end_time": "2020-04-23T12:37:53.736731Z",
     "start_time": "2020-04-23T12:37:53.496177Z"
    }
   },
   "outputs": [
    {
     "data": {
      "image/png": "[encoded data removed]",
      "text/plain": [
       "<Figure size 576x288 with 1 Axes>"
      ]
     },
     "metadata": {
      "needs_background": "light"
     },
     "output_type": "display_data"
    }
   ],
   "source": [
    "features = df.columns\n",
    "importances = model.feature_importances_\n",
    "indices = np.argsort(importances)\n",
    "\n",
    "rc(\"font\", **{\"family\": \"sans-serif\", \"sans-serif\": [\"DejaVu Sans\"]})\n",
    "rc(\"text\", usetex=False)\n",
    "\n",
    "plt.figure(figsize=(8, 4))\n",
    "plt.barh(range(len(indices)), importances[indices], align=\"center\")\n",
    "plt.yticks(range(len(indices)), [features[i] for i in indices])\n",
    "plt.xlabel(\"Relative Importance\")\n",
    "plt.savefig(\"scikit_model_1.pdf\", dpi=600)\n",
    "plt.show()"
   ]
  },
  {
   "cell_type": "markdown",
   "metadata": {},
   "source": [
    "Print importances:"
   ]
  },
  {
   "cell_type": "code",
   "execution_count": 29,
   "metadata": {
    "ExecuteTime": {
     "end_time": "2020-04-23T12:37:53.744026Z",
     "start_time": "2020-04-23T12:37:53.738910Z"
    }
   },
   "outputs": [
    {
     "name": "stdout",
     "output_type": "stream",
     "text": [
      "[0.99452209 0.00547791]\n"
     ]
    }
   ],
   "source": [
    "print(importances)"
   ]
  },
  {
   "cell_type": "markdown",
   "metadata": {},
   "source": [
    "It is calculated [like this](https://stackoverflow.com/questions/49170296/scikit-learn-feature-importance-calculation-in-decision-trees): for each split $s$ in the tree and calculate the weighted impurity decrease,\n",
    "\n",
    "$$\n",
    "\\frac{N_t}{N}\\left(I - \\frac{N_{s,R}}{N_s}I_R- \\frac{N_{s, L}}{N_s} I_L\\right).\n",
    "$$\n",
    "\n",
    "where $N$ is the total number of observations, $N_s$ is the number of observations at the current node, $N_{s,L}$ is the number of samples in the left child, and $N_{s,R}$ is the number of samples in the right child. $I$ represent the impurity (in our case, MSE), with the subscripts having the same meaning as before.\n",
    "\n",
    "For the first split (looking at the tree representation in \"Decision_tree_sklearn.pdf\"), there are in the current node (the root of the tree) as many observations as the total, that is $N=N_s=100$. The initial impurity (MSE) is 22.782, $N_{s,R}=N_{s,L}=50$, right impurity is 0, left impurity 0.25. \n",
    "\n",
    "Thus for the first split, $x_1$ contribute with:\n",
    "\n",
    "$$\n",
    "\\frac{100}{100} \\times \\left(22.782-\\frac{50}{100}\\times 0 --\\frac{50}{100}\\times 0.25 \\right) \\simeq 22.657 \n",
    "$$\n",
    "\n",
    "For the second split, $x_2$ contribute with:\n",
    "\n",
    "$$\n",
    "\\frac{50}{100} \\times \\left(0.25-\\frac{25}{100}\\times 0 --\\frac{25}{100}\\times 0.0 \\right) \\simeq 0.125 \n",
    "$$\n",
    "\n",
    "Normalizing the total weighted variation to 1:\n",
    "\n",
    "$$\n",
    "\\frac{22.657}{22.657+0.125}\\simeq 0.995\n",
    "$$\n",
    "\n",
    "$$\n",
    "\\frac{0.125}{22.657+0.125}\\simeq 0.005\n",
    "$$\n",
    "\n",
    "Thus the column $x_1$ has an importance equal to $0.995$ for the model, while $x_2$ has an importance of 0.005. If the variables entered in different splits, the relative importance is summed. "
   ]
  },
  {
   "cell_type": "markdown",
   "metadata": {},
   "source": [
    "# The importance of Feature Engineering\n",
    "\n",
    "What we are trying with the decision tree is to approximate with step functions. Using the fact that a measurable function can be approximate with simple functions (i.e., with step functions) (Maderna-Soardi), the choice of approximating the function is formally correct. The problem is that the approximation may lead to a single observation per leaf, with the result that the generalization on unseen data would be unsatisfactory.\n",
    "\n",
    "To overcome the problem, and possibly to make the models easier to interpret, additional features can be created to enrich the dataset and making the training of decision trees easier. Consider for example the problem:\n",
    "\n",
    "$$\n",
    "X = \\left\\{(x_1, x_2) |x_1 \\sim \\mathcal{U}(0,1), x_2 \\sim \\mathcal{U}(0,1)\\right\\}\n",
    "$$\n",
    "\n",
    "and \n",
    "\n",
    "$$\n",
    "Y = \\begin{cases}\n",
    "1.0 & \\left\\{(x_1, x_2) \\in X | x_1^2 +x_2^2 \\leq 1\\right\\}\\\\\n",
    "0.0 & \\left\\{(x_1, x_2) \\in X | x_1^2 +x_2^2 > 1\\right\\} \\\\\n",
    "\\end{cases}\n",
    "$$\n"
   ]
  },
  {
   "cell_type": "code",
   "execution_count": 30,
   "metadata": {
    "ExecuteTime": {
     "end_time": "2020-04-23T12:37:54.207800Z",
     "start_time": "2020-04-23T12:37:53.747409Z"
    }
   },
   "outputs": [
    {
     "data": {
      "image/png": "[encoded data removed]",
      "text/plain": [
       "<Figure size 288x288 with 1 Axes>"
      ]
     },
     "metadata": {
      "needs_background": "light"
     },
     "output_type": "display_data"
    }
   ],
   "source": [
    "np.random.seed(2020)\n",
    "N = 200\n",
    "x_1 = np.random.random(N) * 2\n",
    "x_2 = np.random.random(N) * 2\n",
    "df = pd.DataFrame({\"x_1\": x_1, \"x_2\": x_2})\n",
    "Y = np.where(x_1 ** 2 + x_2 ** 2 <= 1, 1, 0)\n",
    "\n",
    "rc(\"font\", **{\"family\": \"sans-serif\", \"sans-serif\": [\"DejaVu Sans\"]})\n",
    "rc(\"text\", usetex=False)\n",
    "\n",
    "plt.figure(figsize=(4, 4))\n",
    "plt.xlim((-0.05, 2.05))\n",
    "plt.ylim((-0.05, 2.05))\n",
    "plt.xlabel(\"$x_1$\")\n",
    "plt.ylabel(\"$x_2$\")\n",
    "plt.title(\"Decision tree, no simple cut\")\n",
    "plt.plot(x_1[Y == 1], x_2[Y == 1], \"s\")\n",
    "plt.plot(x_1[Y == 0], x_2[Y == 0], \".\")\n",
    "plt.savefig(\"decision_tree_polar_points.pdf\", dpi=600, bbox_inches=\"tight\")\n",
    "plt.show()"
   ]
  },
  {
   "cell_type": "markdown",
   "metadata": {},
   "source": [
    "A naive approach to the classification lead to reasonable results:"
   ]
  },
  {
   "cell_type": "code",
   "execution_count": 31,
   "metadata": {
    "ExecuteTime": {
     "end_time": "2020-04-23T12:37:54.216499Z",
     "start_time": "2020-04-23T12:37:54.210077Z"
    }
   },
   "outputs": [
    {
     "name": "stdout",
     "output_type": "stream",
     "text": [
      "DecisionTreeRegressor(ccp_alpha=0.0, criterion='mse', max_depth=None,\n",
      "                      max_features=None, max_leaf_nodes=3,\n",
      "                      min_impurity_decrease=0.0, min_impurity_split=None,\n",
      "                      min_samples_leaf=1, min_samples_split=2,\n",
      "                      min_weight_fraction_leaf=0.0, presort='deprecated',\n",
      "                      random_state=None, splitter='best')\n"
     ]
    }
   ],
   "source": [
    "model = DecisionTreeRegressor(max_leaf_nodes=3).fit(df, Y)\n",
    "print(model)"
   ]
  },
  {
   "cell_type": "code",
   "execution_count": 32,
   "metadata": {
    "ExecuteTime": {
     "end_time": "2020-04-23T12:37:54.583064Z",
     "start_time": "2020-04-23T12:37:54.218970Z"
    }
   },
   "outputs": [
    {
     "data": {
      "image/png": "[encoded data removed]",
      "text/plain": [
       "<Figure size 288x288 with 1 Axes>"
      ]
     },
     "metadata": {
      "needs_background": "light"
     },
     "output_type": "display_data"
    }
   ],
   "source": [
    "rc(\"font\", **{\"family\": \"sans-serif\", \"sans-serif\": [\"DejaVu Sans\"]})\n",
    "rc(\"text\", usetex=False)\n",
    "\n",
    "plt.figure(figsize=(4, 4))\n",
    "plot_tree(model, filled=False, feature_names=[\"x_1\", \"x_2\"])\n",
    "plt.savefig(\"Decision_tree_sklearn_polar.pdf\", dpi=600, bbox_inches=\"tight\")\n",
    "plt.show()"
   ]
  },
  {
   "cell_type": "code",
   "execution_count": 33,
   "metadata": {
    "ExecuteTime": {
     "end_time": "2020-04-23T12:37:54.975729Z",
     "start_time": "2020-04-23T12:37:54.585311Z"
    }
   },
   "outputs": [
    {
     "data": {
      "image/png": "[encoded data removed]",
      "text/plain": [
       "<Figure size 288x288 with 1 Axes>"
      ]
     },
     "metadata": {
      "needs_background": "light"
     },
     "output_type": "display_data"
    }
   ],
   "source": [
    "rc(\"font\", **{\"family\": \"sans-serif\", \"sans-serif\": [\"DejaVu Sans\"]})\n",
    "rc(\"text\", usetex=False)\n",
    "\n",
    "plt.figure(figsize=(4, 4))\n",
    "plt.xlim((-0.05, 2.05))\n",
    "plt.ylim((-0.05, 2.05))\n",
    "plt.xlabel(\"$x_1$\")\n",
    "plt.ylabel(\"$x_2$\")\n",
    "plt.plot(x_1[Y == 1], x_2[Y == 1], \"v\")\n",
    "plt.plot(x_1[Y == 0], x_2[Y == 0], \".\")\n",
    "plt.axvline(x=0.742, color=\"k\", linestyle=\"-\")\n",
    "plt.plot((-0.05, 0.742), (0.979, 0.979), linestyle=\":\")\n",
    "plt.savefig(\"decision_tree_polar_manual.pdf\", dpi=600, bbox_inches=\"tight\")\n",
    "plt.show()"
   ]
  },
  {
   "cell_type": "markdown",
   "metadata": {},
   "source": [
    "If the following features are generated (basically, using polar coordinates assuming $x>0$):\n",
    "    \n",
    "$$\n",
    "\\rho = \\sqrt{x_1^2 + x_2^2}\n",
    "$$\n",
    "\n",
    "$$\n",
    "\\vartheta = \\arctan \\left(\\frac{y}{x}\\right)\n",
    "$$"
   ]
  },
  {
   "cell_type": "code",
   "execution_count": 34,
   "metadata": {
    "ExecuteTime": {
     "end_time": "2020-04-23T12:37:54.988028Z",
     "start_time": "2020-04-23T12:37:54.978140Z"
    }
   },
   "outputs": [],
   "source": [
    "df[\"rho\"] = np.sqrt(df.x_1 ** 2 + df.x_2 ** 2)\n",
    "df[\"theta\"] = np.arctan(df.x_2 / df.x_1)"
   ]
  },
  {
   "cell_type": "code",
   "execution_count": 35,
   "metadata": {
    "ExecuteTime": {
     "end_time": "2020-04-23T12:37:55.005970Z",
     "start_time": "2020-04-23T12:37:54.990353Z"
    }
   },
   "outputs": [
    {
     "data": {
      "text/html": [
       "<div>\n",
       "<style scoped>\n",
       "    .dataframe tbody tr th:only-of-type {\n",
       "        vertical-align: middle;\n",
       "    }\n",
       "\n",
       "    .dataframe tbody tr th {\n",
       "        vertical-align: top;\n",
       "    }\n",
       "\n",
       "    .dataframe thead th {\n",
       "        text-align: right;\n",
       "    }\n",
       "</style>\n",
       "<table border=\"1\" class=\"dataframe\">\n",
       "  <thead>\n",
       "    <tr style=\"text-align: right;\">\n",
       "      <th></th>\n",
       "      <th>x_1</th>\n",
       "      <th>x_2</th>\n",
       "      <th>rho</th>\n",
       "      <th>theta</th>\n",
       "    </tr>\n",
       "  </thead>\n",
       "  <tbody>\n",
       "    <tr>\n",
       "      <th>0</th>\n",
       "      <td>1.972554</td>\n",
       "      <td>0.272456</td>\n",
       "      <td>1.991281</td>\n",
       "      <td>0.137255</td>\n",
       "    </tr>\n",
       "    <tr>\n",
       "      <th>1</th>\n",
       "      <td>1.746784</td>\n",
       "      <td>0.172684</td>\n",
       "      <td>1.755299</td>\n",
       "      <td>0.098538</td>\n",
       "    </tr>\n",
       "    <tr>\n",
       "      <th>2</th>\n",
       "      <td>1.019491</td>\n",
       "      <td>0.539177</td>\n",
       "      <td>1.153288</td>\n",
       "      <td>0.486475</td>\n",
       "    </tr>\n",
       "    <tr>\n",
       "      <th>3</th>\n",
       "      <td>0.543671</td>\n",
       "      <td>0.339722</td>\n",
       "      <td>0.641085</td>\n",
       "      <td>0.558503</td>\n",
       "    </tr>\n",
       "    <tr>\n",
       "      <th>4</th>\n",
       "      <td>0.673837</td>\n",
       "      <td>0.713459</td>\n",
       "      <td>0.981367</td>\n",
       "      <td>0.813951</td>\n",
       "    </tr>\n",
       "  </tbody>\n",
       "</table>\n",
       "</div>"
      ],
      "text/plain": [
       "        x_1       x_2       rho     theta\n",
       "0  1.972554  0.272456  1.991281  0.137255\n",
       "1  1.746784  0.172684  1.755299  0.098538\n",
       "2  1.019491  0.539177  1.153288  0.486475\n",
       "3  0.543671  0.339722  0.641085  0.558503\n",
       "4  0.673837  0.713459  0.981367  0.813951"
      ]
     },
     "execution_count": 35,
     "metadata": {},
     "output_type": "execute_result"
    }
   ],
   "source": [
    "df.head()"
   ]
  },
  {
   "cell_type": "code",
   "execution_count": 36,
   "metadata": {
    "ExecuteTime": {
     "end_time": "2020-04-23T12:37:55.026851Z",
     "start_time": "2020-04-23T12:37:55.008681Z"
    }
   },
   "outputs": [
    {
     "name": "stdout",
     "output_type": "stream",
     "text": [
      "DecisionTreeRegressor(ccp_alpha=0.0, criterion='mse', max_depth=None,\n",
      "                      max_features=None, max_leaf_nodes=3,\n",
      "                      min_impurity_decrease=0.0, min_impurity_split=None,\n",
      "                      min_samples_leaf=1, min_samples_split=2,\n",
      "                      min_weight_fraction_leaf=0.0, presort='deprecated',\n",
      "                      random_state=None, splitter='best')\n"
     ]
    }
   ],
   "source": [
    "model = DecisionTreeRegressor(max_leaf_nodes=3).fit(df, Y)\n",
    "print(model)"
   ]
  },
  {
   "cell_type": "code",
   "execution_count": 37,
   "metadata": {
    "ExecuteTime": {
     "end_time": "2020-04-23T12:37:55.279033Z",
     "start_time": "2020-04-23T12:37:55.029385Z"
    }
   },
   "outputs": [
    {
     "data": {
      "image/png": "[encoded data removed]",
      "text/plain": [
       "<Figure size 216x216 with 1 Axes>"
      ]
     },
     "metadata": {
      "needs_background": "light"
     },
     "output_type": "display_data"
    }
   ],
   "source": [
    "rc(\"font\", **{\"family\": \"sans-serif\", \"sans-serif\": [\"DejaVu Sans\"]})\n",
    "rc(\"text\", usetex=False)\n",
    "\n",
    "plt.figure(figsize=(3, 3))\n",
    "plot_tree(model, filled=False, feature_names=df.columns)\n",
    "plt.savefig(\"Decision_tree_sklearn_polar.pdf\", dpi=600, bbox_inches=\"tight\")\n",
    "plt.show()"
   ]
  },
  {
   "cell_type": "markdown",
   "metadata": {},
   "source": [
    "That is, a perfect score and simpler tree."
   ]
  },
  {
   "cell_type": "code",
   "execution_count": 38,
   "metadata": {
    "ExecuteTime": {
     "end_time": "2020-04-23T12:37:55.647482Z",
     "start_time": "2020-04-23T12:37:55.281707Z"
    }
   },
   "outputs": [
    {
     "data": {
      "image/png": "[encoded data removed]",
      "text/plain": [
       "<Figure size 288x288 with 1 Axes>"
      ]
     },
     "metadata": {
      "needs_background": "light"
     },
     "output_type": "display_data"
    }
   ],
   "source": [
    "rc(\"font\", **{\"family\": \"sans-serif\", \"sans-serif\": [\"DejaVu Sans\"]})\n",
    "rc(\"text\", usetex=False)\n",
    "\n",
    "plt.figure(figsize=(4, 4))\n",
    "plt.xlim((-0.05, 2.05))\n",
    "plt.xlabel(\"$\\\\rho$\")\n",
    "plt.ylabel(\"$\\\\vartheta$\")\n",
    "plt.yticks(\n",
    "    ticks=[0, np.pi / 8, np.pi / 4.0, np.pi * 3.0 / 8, np.pi / 2.0],\n",
    "    labels=[\"$0$\", \"$\\pi/8$\", \"$\\pi/4$\", \"$3\\pi/8$\", \"$\\pi/2$\"],\n",
    ")\n",
    "# plt.title(\"Decision tree with polar coordinates\")\n",
    "plt.plot(df.rho[Y == 1], df.theta[Y == 1], \"v\")\n",
    "plt.plot(df.rho[Y == 0], df.theta[Y == 0], \".\")\n",
    "plt.axvline(x=0.999, color=\"k\")\n",
    "plt.savefig(\"decision_tree_polar_ref.pdf\", dpi=600, bbox_inches=\"tight\")\n",
    "plt.show()"
   ]
  },
  {
   "cell_type": "markdown",
   "metadata": {},
   "source": [
    "# Nuclear Mass Models"
   ]
  },
  {
   "cell_type": "code",
   "execution_count": 39,
   "metadata": {
    "ExecuteTime": {
     "end_time": "2020-04-23T12:37:56.101359Z",
     "start_time": "2020-04-23T12:37:55.649423Z"
    }
   },
   "outputs": [
    {
     "data": {
      "image/png": "[encoded data removed]",
      "text/plain": [
       "<Figure size 288x288 with 1 Axes>"
      ]
     },
     "metadata": {
      "needs_background": "light"
     },
     "output_type": "display_data"
    }
   ],
   "source": [
    "import pandas as pd\n",
    "\n",
    "\n",
    "f = open(\"residuals.dat\", \"r\")\n",
    "content = f.readlines()\n",
    "f.close()\n",
    "data = {\n",
    "    \"A\": [int(i[9:13]) for i in content[1:]],\n",
    "    \"N\": [int(i[21:24]) for i in content[1:]],\n",
    "    \"Z\": [int(i[33:36]) for i in content[1:]],\n",
    "    \"Residual (MEV)\": [float(i[36:].strip()) for i in content[1:]],\n",
    "}\n",
    "\n",
    "ale = pd.DataFrame(data)\n",
    "\n",
    "rc(\"font\", **{\"family\": \"sans-serif\", \"sans-serif\": [\"DejaVu Sans\"]})\n",
    "rc(\"text\", usetex=False)\n",
    "\n",
    "\n",
    "plt.figure(figsize=(4, 4))\n",
    "plt.xlabel(\"A\")\n",
    "plt.ylabel(\"$\\mathcal{E}(N, Z)$[MeV]\")\n",
    "plt.plot(ale.A, ale[\"Residual (MEV)\"], \".\", label=\"$\\sigma=0.572\\,\\mathrm{MeV}$\")\n",
    "plt.legend(frameon=False, markerscale=0)\n",
    "plt.savefig(\"residual_dz10.pdf\", dpi=600, bbox_inches=\"tight\")\n",
    "plt.show()"
   ]
  },
  {
   "cell_type": "code",
   "execution_count": 40,
   "metadata": {
    "ExecuteTime": {
     "end_time": "2020-04-23T12:37:56.543453Z",
     "start_time": "2020-04-23T12:37:56.103822Z"
    }
   },
   "outputs": [
    {
     "data": {
      "image/png": "[encoded data removed]",
      "text/plain": [
       "<Figure size 288x288 with 1 Axes>"
      ]
     },
     "metadata": {
      "needs_background": "light"
     },
     "output_type": "display_data"
    }
   ],
   "source": [
    "f = open(\"residuals_liquid_drop.dat\", \"r\")\n",
    "content = f.readlines()\n",
    "f.close()\n",
    "data = {\n",
    "    \"A\": [int(i[9:13]) for i in content[1:]],\n",
    "    \"N\": [int(i[21:24]) for i in content[1:]],\n",
    "    \"Z\": [int(i[33:36]) for i in content[1:]],\n",
    "    \"Residual (MEV)\": [float(i[36:].strip()) for i in content[1:]],\n",
    "}\n",
    "\n",
    "goccia = pd.DataFrame(data)\n",
    "\n",
    "\n",
    "rc(\"font\", **{\"family\": \"sans-serif\", \"sans-serif\": [\"DejaVu Sans\"]})\n",
    "rc(\"text\", usetex=False)\n",
    "\n",
    "plt.figure(figsize=(4, 4))\n",
    "plt.xlabel(\"A\")\n",
    "plt.ylabel(\"$\\mathcal{E}(N, Z)$[MeV]\")\n",
    "# plt.title(\"Residuals for Liquid Model\")\n",
    "plt.plot(goccia.A, goccia[\"Residual (MEV)\"], \".\", label=\"$\\sigma=2.937\\,\\mathrm{MeV}$\")\n",
    "plt.legend(frameon=False, markerscale=0)\n",
    "plt.savefig(\"residual_liquid_drop.pdf\", dpi=600, bbox_inches=\"tight\")\n",
    "plt.show()"
   ]
  },
  {
   "cell_type": "markdown",
   "metadata": {},
   "source": [
    "## Liquid Drop\n",
    "\n",
    "The first step is to prepare data to be comma separate format (it is easier to handle for building Machine Learning models). Create a CSV file:"
   ]
  },
  {
   "cell_type": "code",
   "execution_count": 41,
   "metadata": {
    "ExecuteTime": {
     "end_time": "2020-04-23T12:37:56.569994Z",
     "start_time": "2020-04-23T12:37:56.545668Z"
    }
   },
   "outputs": [
    {
     "data": {
      "text/html": [
       "<div>\n",
       "<style scoped>\n",
       "    .dataframe tbody tr th:only-of-type {\n",
       "        vertical-align: middle;\n",
       "    }\n",
       "\n",
       "    .dataframe tbody tr th {\n",
       "        vertical-align: top;\n",
       "    }\n",
       "\n",
       "    .dataframe thead th {\n",
       "        text-align: right;\n",
       "    }\n",
       "</style>\n",
       "<table border=\"1\" class=\"dataframe\">\n",
       "  <thead>\n",
       "    <tr style=\"text-align: right;\">\n",
       "      <th></th>\n",
       "      <th>A</th>\n",
       "      <th>N</th>\n",
       "      <th>Z</th>\n",
       "      <th>Residual (MEV)</th>\n",
       "    </tr>\n",
       "  </thead>\n",
       "  <tbody>\n",
       "    <tr>\n",
       "      <th>0</th>\n",
       "      <td>15</td>\n",
       "      <td>10</td>\n",
       "      <td>5</td>\n",
       "      <td>1.136133</td>\n",
       "    </tr>\n",
       "    <tr>\n",
       "      <th>1</th>\n",
       "      <td>15</td>\n",
       "      <td>9</td>\n",
       "      <td>6</td>\n",
       "      <td>0.651858</td>\n",
       "    </tr>\n",
       "    <tr>\n",
       "      <th>2</th>\n",
       "      <td>15</td>\n",
       "      <td>8</td>\n",
       "      <td>7</td>\n",
       "      <td>0.254488</td>\n",
       "    </tr>\n",
       "    <tr>\n",
       "      <th>3</th>\n",
       "      <td>15</td>\n",
       "      <td>7</td>\n",
       "      <td>8</td>\n",
       "      <td>0.166684</td>\n",
       "    </tr>\n",
       "    <tr>\n",
       "      <th>4</th>\n",
       "      <td>15</td>\n",
       "      <td>6</td>\n",
       "      <td>9</td>\n",
       "      <td>2.052728</td>\n",
       "    </tr>\n",
       "  </tbody>\n",
       "</table>\n",
       "</div>"
      ],
      "text/plain": [
       "    A   N  Z  Residual (MEV)\n",
       "0  15  10  5        1.136133\n",
       "1  15   9  6        0.651858\n",
       "2  15   8  7        0.254488\n",
       "3  15   7  8        0.166684\n",
       "4  15   6  9        2.052728"
      ]
     },
     "execution_count": 41,
     "metadata": {},
     "output_type": "execute_result"
    }
   ],
   "source": [
    "import pandas as pd\n",
    "\n",
    "f = open(\"residuals_liquid_drop.dat\", \"r\")\n",
    "content = f.readlines()\n",
    "f.close()\n",
    "data = {\n",
    "    \"A\": [int(i[9:13]) for i in content[1:]],\n",
    "    \"N\": [int(i[21:24]) for i in content[1:]],\n",
    "    \"Z\": [int(i[33:36]) for i in content[1:]],\n",
    "    \"Residual (MEV)\": [float(i[36:].strip()) for i in content[1:]],\n",
    "}\n",
    "\n",
    "train = pd.DataFrame(data)\n",
    "train.head()"
   ]
  },
  {
   "cell_type": "code",
   "execution_count": 42,
   "metadata": {
    "ExecuteTime": {
     "end_time": "2020-04-23T12:37:56.586648Z",
     "start_time": "2020-04-23T12:37:56.572272Z"
    }
   },
   "outputs": [
    {
     "name": "stdout",
     "output_type": "stream",
     "text": [
      "0.002690832231143599\n",
      "0.5719458916369262\n"
     ]
    }
   ],
   "source": [
    "import numpy as np\n",
    "\n",
    "print(np.mean(train[\"Residual (MEV)\"]))\n",
    "print(np.std(train[\"Residual (MEV)\"]))"
   ]
  },
  {
   "cell_type": "code",
   "execution_count": 43,
   "metadata": {
    "ExecuteTime": {
     "end_time": "2020-04-23T12:38:21.380234Z",
     "start_time": "2020-04-23T12:37:56.589339Z"
    }
   },
   "outputs": [
    {
     "name": "stdout",
     "output_type": "stream",
     "text": [
      "100%|██████████| 499/499 [00:24<00:00, 20.59trial/s, best loss: 0.3456368978557038]\n"
     ]
    },
    {
     "data": {
      "text/plain": [
       "5"
      ]
     },
     "execution_count": 43,
     "metadata": {},
     "output_type": "execute_result"
    }
   ],
   "source": [
    "from hyperopt import hp\n",
    "from hyperopt import fmin\n",
    "from hyperopt import tpe\n",
    "from hyperopt import STATUS_OK\n",
    "from hyperopt import Trials\n",
    "from sklearn.tree import DecisionTreeRegressor\n",
    "from sklearn.model_selection import cross_val_score\n",
    "\n",
    "\n",
    "np.random.seed(2020)\n",
    "Y = train[\"Residual (MEV)\"].ravel()\n",
    "X = train.drop([\"Residual (MEV)\"], axis=1)\n",
    "space = {\n",
    "    \"max_leaf_nodes\": hp.choice(\"max_leaf_nodes\", list(range(2, 501))),\n",
    "}\n",
    "\n",
    "\n",
    "def objective(space):\n",
    "    model = DecisionTreeRegressor(\n",
    "        random_state=2020, max_leaf_nodes=int(space[\"max_leaf_nodes\"])\n",
    "    )\n",
    "    mse = cross_val_score(model, X, Y, cv=3, scoring=\"neg_mean_squared_error\")\n",
    "    return {\n",
    "        \"loss\": -mse.mean(),\n",
    "        \"std\": mse.std(),\n",
    "        \"status\": STATUS_OK,\n",
    "    }\n",
    "\n",
    "\n",
    "trials = Trials()\n",
    "best = fmin(fn=objective, space=space, algo=tpe.suggest, max_evals=499, trials=trials)\n",
    "list(range(2, 501))[best[\"max_leaf_nodes\"]]"
   ]
  },
  {
   "cell_type": "markdown",
   "metadata": {},
   "source": [
    "That is, the best model was obtained with the second value in list(range(2, 501)), i.e.:"
   ]
  },
  {
   "cell_type": "code",
   "execution_count": 44,
   "metadata": {
    "ExecuteTime": {
     "end_time": "2020-04-23T12:38:21.387473Z",
     "start_time": "2020-04-23T12:38:21.382292Z"
    }
   },
   "outputs": [
    {
     "data": {
      "text/plain": [
       "5"
      ]
     },
     "execution_count": 44,
     "metadata": {},
     "output_type": "execute_result"
    }
   ],
   "source": [
    "list(range(2, 501))[best[\"max_leaf_nodes\"]]"
   ]
  },
  {
   "cell_type": "markdown",
   "metadata": {},
   "source": [
    "All the values explored and the performance of the models are saved in a new data frame:"
   ]
  },
  {
   "cell_type": "code",
   "execution_count": 45,
   "metadata": {
    "ExecuteTime": {
     "end_time": "2020-04-23T12:38:21.421697Z",
     "start_time": "2020-04-23T12:38:21.390086Z"
    }
   },
   "outputs": [
    {
     "data": {
      "text/html": [
       "<div>\n",
       "<style scoped>\n",
       "    .dataframe tbody tr th:only-of-type {\n",
       "        vertical-align: middle;\n",
       "    }\n",
       "\n",
       "    .dataframe tbody tr th {\n",
       "        vertical-align: top;\n",
       "    }\n",
       "\n",
       "    .dataframe thead th {\n",
       "        text-align: right;\n",
       "    }\n",
       "</style>\n",
       "<table border=\"1\" class=\"dataframe\">\n",
       "  <thead>\n",
       "    <tr style=\"text-align: right;\">\n",
       "      <th></th>\n",
       "      <th>MSE_mean</th>\n",
       "      <th>MSE_std</th>\n",
       "      <th>max_leaf_nodes</th>\n",
       "    </tr>\n",
       "  </thead>\n",
       "  <tbody>\n",
       "    <tr>\n",
       "      <th>290</th>\n",
       "      <td>0.345637</td>\n",
       "      <td>0.119345</td>\n",
       "      <td>5</td>\n",
       "    </tr>\n",
       "    <tr>\n",
       "      <th>422</th>\n",
       "      <td>0.346113</td>\n",
       "      <td>0.119010</td>\n",
       "      <td>3</td>\n",
       "    </tr>\n",
       "    <tr>\n",
       "      <th>261</th>\n",
       "      <td>0.350029</td>\n",
       "      <td>0.116367</td>\n",
       "      <td>7</td>\n",
       "    </tr>\n",
       "    <tr>\n",
       "      <th>473</th>\n",
       "      <td>0.350708</td>\n",
       "      <td>0.115930</td>\n",
       "      <td>6</td>\n",
       "    </tr>\n",
       "    <tr>\n",
       "      <th>110</th>\n",
       "      <td>0.351063</td>\n",
       "      <td>0.115703</td>\n",
       "      <td>4</td>\n",
       "    </tr>\n",
       "    <tr>\n",
       "      <th>66</th>\n",
       "      <td>0.352661</td>\n",
       "      <td>0.114400</td>\n",
       "      <td>9</td>\n",
       "    </tr>\n",
       "    <tr>\n",
       "      <th>210</th>\n",
       "      <td>0.355697</td>\n",
       "      <td>0.123403</td>\n",
       "      <td>46</td>\n",
       "    </tr>\n",
       "    <tr>\n",
       "      <th>381</th>\n",
       "      <td>0.356907</td>\n",
       "      <td>0.122686</td>\n",
       "      <td>49</td>\n",
       "    </tr>\n",
       "    <tr>\n",
       "      <th>137</th>\n",
       "      <td>0.356907</td>\n",
       "      <td>0.122686</td>\n",
       "      <td>48</td>\n",
       "    </tr>\n",
       "    <tr>\n",
       "      <th>452</th>\n",
       "      <td>0.356907</td>\n",
       "      <td>0.122686</td>\n",
       "      <td>55</td>\n",
       "    </tr>\n",
       "  </tbody>\n",
       "</table>\n",
       "</div>"
      ],
      "text/plain": [
       "     MSE_mean   MSE_std  max_leaf_nodes\n",
       "290  0.345637  0.119345               5\n",
       "422  0.346113  0.119010               3\n",
       "261  0.350029  0.116367               7\n",
       "473  0.350708  0.115930               6\n",
       "110  0.351063  0.115703               4\n",
       "66   0.352661  0.114400               9\n",
       "210  0.355697  0.123403              46\n",
       "381  0.356907  0.122686              49\n",
       "137  0.356907  0.122686              48\n",
       "452  0.356907  0.122686              55"
      ]
     },
     "execution_count": 45,
     "metadata": {},
     "output_type": "execute_result"
    }
   ],
   "source": [
    "performance = pd.DataFrame(\n",
    "    {\"max_leaf_nodes\": [list(range(2, 501))[i] for i in trials.vals[\"max_leaf_nodes\"]]}\n",
    ")\n",
    "performance[\"MSE_mean\"] = [i[\"loss\"] for i in trials.results]\n",
    "performance[\"MSE_std\"] = [i[\"std\"] for i in trials.results]\n",
    "performance = performance[[\"MSE_mean\", \"MSE_std\", \"max_leaf_nodes\"]]\n",
    "performance = performance.sort_values(by=\"MSE_mean\")\n",
    "performance.drop_duplicates(inplace=True)\n",
    "performance.head(n=10)"
   ]
  },
  {
   "cell_type": "code",
   "execution_count": 46,
   "metadata": {
    "ExecuteTime": {
     "end_time": "2020-04-23T12:38:21.706022Z",
     "start_time": "2020-04-23T12:38:21.424642Z"
    }
   },
   "outputs": [
    {
     "data": {
      "image/png": "[encoded data removed]",
      "text/plain": [
       "<Figure size 576x288 with 1 Axes>"
      ]
     },
     "metadata": {
      "needs_background": "light"
     },
     "output_type": "display_data"
    }
   ],
   "source": [
    "rc(\"font\", **{\"family\": \"sans-serif\", \"sans-serif\": [\"DejaVu Sans\"]})\n",
    "rc(\"text\", usetex=False)\n",
    "temp = performance.sort_values(\"max_leaf_nodes\")\n",
    "\n",
    "plt.figure(figsize=(8, 4))\n",
    "plt.xticks((0, 5, 10, 20, 40, 60, 80, 100))\n",
    "plt.yticks((0.31, 0.345637, 0.38, 0.4, 0.42, 0.44))\n",
    "plt.xlabel(\"Number of Leaves\")\n",
    "plt.ylabel(\"MSE\")\n",
    "plt.xlim((0, 100))\n",
    "plt.ylim((0.3, 0.460))\n",
    "plt.plot(temp.max_leaf_nodes, temp.MSE_mean)\n",
    "plt.plot(5, 0.345637, \"ro\", markersize=8)\n",
    "plt.savefig(\"MSE_liquid_drop.pdf\", dpi=600, bbox_inches=\"tight\")\n",
    "plt.show()"
   ]
  },
  {
   "cell_type": "markdown",
   "metadata": {},
   "source": [
    "Performance on unseen data:"
   ]
  },
  {
   "cell_type": "code",
   "execution_count": 47,
   "metadata": {
    "ExecuteTime": {
     "end_time": "2020-04-23T12:38:21.713465Z",
     "start_time": "2020-04-23T12:38:21.708245Z"
    }
   },
   "outputs": [
    {
     "name": "stdout",
     "output_type": "stream",
     "text": [
      "0.587908919693947\n"
     ]
    }
   ],
   "source": [
    "print(list(np.sqrt(performance[\"MSE_mean\"]))[0])"
   ]
  },
  {
   "cell_type": "markdown",
   "metadata": {},
   "source": [
    "Retraining on all data:"
   ]
  },
  {
   "cell_type": "code",
   "execution_count": 48,
   "metadata": {
    "ExecuteTime": {
     "end_time": "2020-04-23T12:38:22.276214Z",
     "start_time": "2020-04-23T12:38:21.715832Z"
    }
   },
   "outputs": [
    {
     "data": {
      "image/png": "[encoded data removed]",
      "text/plain": [
       "<Figure size 288x288 with 1 Axes>"
      ]
     },
     "metadata": {
      "needs_background": "light"
     },
     "output_type": "display_data"
    }
   ],
   "source": [
    "from sklearn.tree import plot_tree\n",
    "\n",
    "rc(\"font\", **{\"family\": \"sans-serif\", \"sans-serif\": [\"DejaVu Sans\"]})\n",
    "rc(\"text\", usetex=False)\n",
    "\n",
    "\n",
    "model = DecisionTreeRegressor(\n",
    "    random_state=2019, max_leaf_nodes=list(range(2, 501))[best[\"max_leaf_nodes\"]]\n",
    ").fit(X, Y)\n",
    "plt.figure(figsize=(4, 4))\n",
    "plot_tree(model, filled=False, feature_names=X.columns, rounded=True)\n",
    "plt.savefig(\"tree1.pdf\", dpi=600, bbox_inches=\"tight\")\n",
    "plt.show()"
   ]
  },
  {
   "cell_type": "markdown",
   "metadata": {},
   "source": [
    "The training error is:"
   ]
  },
  {
   "cell_type": "code",
   "execution_count": 49,
   "metadata": {
    "ExecuteTime": {
     "end_time": "2020-04-23T12:38:22.289091Z",
     "start_time": "2020-04-23T12:38:22.282937Z"
    }
   },
   "outputs": [
    {
     "name": "stdout",
     "output_type": "stream",
     "text": [
      "0.5342253839655683\n"
     ]
    }
   ],
   "source": [
    "print(np.sqrt(np.mean((model.predict(X) - Y) ** 2)))"
   ]
  },
  {
   "cell_type": "markdown",
   "metadata": {},
   "source": [
    "Adding Features to the model (Feature Engineering):"
   ]
  },
  {
   "cell_type": "code",
   "execution_count": 50,
   "metadata": {
    "ExecuteTime": {
     "end_time": "2020-04-23T12:38:52.927600Z",
     "start_time": "2020-04-23T12:38:22.292638Z"
    }
   },
   "outputs": [
    {
     "name": "stdout",
     "output_type": "stream",
     "text": [
      "100%|██████████| 501/501 [00:30<00:00, 16.47trial/s, best loss: 0.3256077332360065]\n"
     ]
    },
    {
     "data": {
      "text/html": [
       "<div>\n",
       "<style scoped>\n",
       "    .dataframe tbody tr th:only-of-type {\n",
       "        vertical-align: middle;\n",
       "    }\n",
       "\n",
       "    .dataframe tbody tr th {\n",
       "        vertical-align: top;\n",
       "    }\n",
       "\n",
       "    .dataframe thead th {\n",
       "        text-align: right;\n",
       "    }\n",
       "</style>\n",
       "<table border=\"1\" class=\"dataframe\">\n",
       "  <thead>\n",
       "    <tr style=\"text-align: right;\">\n",
       "      <th></th>\n",
       "      <th>MSE_mean</th>\n",
       "      <th>MSE_std</th>\n",
       "      <th>max_leaf_nodes</th>\n",
       "    </tr>\n",
       "  </thead>\n",
       "  <tbody>\n",
       "    <tr>\n",
       "      <th>410</th>\n",
       "      <td>0.325608</td>\n",
       "      <td>0.150315</td>\n",
       "      <td>13</td>\n",
       "    </tr>\n",
       "    <tr>\n",
       "      <th>390</th>\n",
       "      <td>0.325608</td>\n",
       "      <td>0.150315</td>\n",
       "      <td>12</td>\n",
       "    </tr>\n",
       "    <tr>\n",
       "      <th>453</th>\n",
       "      <td>0.340072</td>\n",
       "      <td>0.140624</td>\n",
       "      <td>14</td>\n",
       "    </tr>\n",
       "    <tr>\n",
       "      <th>104</th>\n",
       "      <td>0.340072</td>\n",
       "      <td>0.140624</td>\n",
       "      <td>15</td>\n",
       "    </tr>\n",
       "    <tr>\n",
       "      <th>335</th>\n",
       "      <td>0.340072</td>\n",
       "      <td>0.140624</td>\n",
       "      <td>16</td>\n",
       "    </tr>\n",
       "    <tr>\n",
       "      <th>273</th>\n",
       "      <td>0.341245</td>\n",
       "      <td>0.139865</td>\n",
       "      <td>18</td>\n",
       "    </tr>\n",
       "    <tr>\n",
       "      <th>94</th>\n",
       "      <td>0.341245</td>\n",
       "      <td>0.139865</td>\n",
       "      <td>17</td>\n",
       "    </tr>\n",
       "    <tr>\n",
       "      <th>350</th>\n",
       "      <td>0.348728</td>\n",
       "      <td>0.135844</td>\n",
       "      <td>24</td>\n",
       "    </tr>\n",
       "    <tr>\n",
       "      <th>297</th>\n",
       "      <td>0.348728</td>\n",
       "      <td>0.135844</td>\n",
       "      <td>21</td>\n",
       "    </tr>\n",
       "    <tr>\n",
       "      <th>189</th>\n",
       "      <td>0.348728</td>\n",
       "      <td>0.135844</td>\n",
       "      <td>26</td>\n",
       "    </tr>\n",
       "  </tbody>\n",
       "</table>\n",
       "</div>"
      ],
      "text/plain": [
       "     MSE_mean   MSE_std  max_leaf_nodes\n",
       "410  0.325608  0.150315              13\n",
       "390  0.325608  0.150315              12\n",
       "453  0.340072  0.140624              14\n",
       "104  0.340072  0.140624              15\n",
       "335  0.340072  0.140624              16\n",
       "273  0.341245  0.139865              18\n",
       "94   0.341245  0.139865              17\n",
       "350  0.348728  0.135844              24\n",
       "297  0.348728  0.135844              21\n",
       "189  0.348728  0.135844              26"
      ]
     },
     "execution_count": 50,
     "metadata": {},
     "output_type": "execute_result"
    }
   ],
   "source": [
    "X[\"Z_even\"] = [i % 2 for i in X[\"Z\"]]\n",
    "X[\"N_even\"] = [i % 2 for i in X[\"N\"]]\n",
    "X[\"N_Z\"] = X[\"N\"] - X[\"Z\"]\n",
    "X[\"N_on_Z\"] = X[\"N\"] / X[\"Z\"]\n",
    "X[\"Z_A\"] = X[\"Z\"] / X[\"A\"]\n",
    "X[\"N_A\"] = X[\"N\"] / X[\"A\"]\n",
    "\n",
    "space = {\n",
    "    \"max_leaf_nodes\": hp.choice(\"max_leaf_nodes\", list(range(2, 501))),\n",
    "}\n",
    "\n",
    "\n",
    "def objective(space):\n",
    "    model = DecisionTreeRegressor(\n",
    "        random_state=2019, max_leaf_nodes=int(space[\"max_leaf_nodes\"])\n",
    "    )\n",
    "    mse = cross_val_score(model, X, Y, cv=3, scoring=\"neg_mean_squared_error\")\n",
    "    return {\n",
    "        \"loss\": -mse.mean(),\n",
    "        \"std\": mse.std(),\n",
    "        \"status\": STATUS_OK,\n",
    "    }\n",
    "\n",
    "\n",
    "trials = Trials()\n",
    "best = fmin(fn=objective, space=space, algo=tpe.suggest, max_evals=501, trials=trials)\n",
    "list(range(2, 501))[best[\"max_leaf_nodes\"]]\n",
    "\n",
    "\n",
    "performance = pd.DataFrame(\n",
    "    {\"max_leaf_nodes\": [list(range(2, 501))[i] for i in trials.vals[\"max_leaf_nodes\"]]}\n",
    ")\n",
    "performance[\"MSE_mean\"] = [i[\"loss\"] for i in trials.results]\n",
    "performance[\"MSE_std\"] = [i[\"std\"] for i in trials.results]\n",
    "performance = performance[[\"MSE_mean\", \"MSE_std\", \"max_leaf_nodes\"]]\n",
    "performance = performance.sort_values(by=\"MSE_mean\")\n",
    "performance.drop_duplicates(inplace=True)\n",
    "performance.head(n=10)"
   ]
  },
  {
   "cell_type": "markdown",
   "metadata": {},
   "source": [
    "Performance on unseen data:"
   ]
  },
  {
   "cell_type": "code",
   "execution_count": 51,
   "metadata": {
    "ExecuteTime": {
     "end_time": "2020-04-23T12:38:52.936063Z",
     "start_time": "2020-04-23T12:38:52.930306Z"
    }
   },
   "outputs": [
    {
     "name": "stdout",
     "output_type": "stream",
     "text": [
      "0.5706204809117935\n"
     ]
    }
   ],
   "source": [
    "print(list(np.sqrt(performance[\"MSE_mean\"]))[0])"
   ]
  },
  {
   "cell_type": "code",
   "execution_count": 52,
   "metadata": {
    "ExecuteTime": {
     "end_time": "2020-04-23T12:38:53.126139Z",
     "start_time": "2020-04-23T12:38:52.938595Z"
    }
   },
   "outputs": [
    {
     "data": {
      "image/png": "[encoded data removed]",
      "text/plain": [
       "<Figure size 576x288 with 1 Axes>"
      ]
     },
     "metadata": {
      "needs_background": "light"
     },
     "output_type": "display_data"
    }
   ],
   "source": [
    "temp = performance.sort_values(\"max_leaf_nodes\")\n",
    "\n",
    "rc(\"font\", **{\"family\": \"sans-serif\", \"sans-serif\": [\"DejaVu Sans\"]})\n",
    "rc(\"text\", usetex=False)\n",
    "\n",
    "plt.figure(figsize=(8, 4))\n",
    "plt.xlabel(\"Leaf Number\")\n",
    "plt.ylabel(\"MSE\")\n",
    "plt.plot(temp.max_leaf_nodes, temp.MSE_mean)\n",
    "plt.show()"
   ]
  },
  {
   "cell_type": "code",
   "execution_count": 53,
   "metadata": {
    "ExecuteTime": {
     "end_time": "2020-04-23T12:38:54.651824Z",
     "start_time": "2020-04-23T12:38:53.128378Z"
    }
   },
   "outputs": [
    {
     "data": {
      "image/png": "[encoded data removed]",
      "text/plain": [
       "<Figure size 288x288 with 1 Axes>"
      ]
     },
     "metadata": {
      "needs_background": "light"
     },
     "output_type": "display_data"
    }
   ],
   "source": [
    "rc(\"font\", **{\"family\": \"sans-serif\", \"sans-serif\": [\"DejaVu Sans\"]})\n",
    "rc(\"text\", usetex=False)\n",
    "\n",
    "mapper = {\n",
    "    \"A\": \"$\\mathrm{A}$\",\n",
    "    \"N\": \"$\\mathrm{N}$\",\n",
    "    \"Z\": \"$\\mathrm{Z}$\",\n",
    "    \"Z_even\": \"$\\mathrm{Z}_{\\mathrm{even}}$\",\n",
    "    \"N_even\": \"$\\mathrm{N}_{\\mathrm{even}}$\",\n",
    "    \"N_Z\": \"$\\mathrm{N-Z}$\",\n",
    "    \"N_on_Z\": \"$\\mathrm{N/Z}$\",\n",
    "    \"Z_A\": \"$\\mathrm{Z/A}$\",\n",
    "    \"N_A\": \"$\\mathrm{N/A}$\",\n",
    "}\n",
    "model = DecisionTreeRegressor(\n",
    "    random_state=2019, max_leaf_nodes=list(range(2, 501))[best[\"max_leaf_nodes\"]]\n",
    ").fit(X, Y)\n",
    "plt.figure(figsize=(4, 4))\n",
    "plot_tree(\n",
    "    model,\n",
    "    filled=False,\n",
    "    feature_names=[mapper[i] for i in list(X.columns)],\n",
    "    rounded=True,\n",
    "    impurity=False,\n",
    ")\n",
    "plt.savefig(\"tree2.pdf\", dpi=600, bbox_inches=\"tight\")\n",
    "plt.show()"
   ]
  },
  {
   "cell_type": "markdown",
   "metadata": {},
   "source": [
    "The training error:"
   ]
  },
  {
   "cell_type": "code",
   "execution_count": 54,
   "metadata": {
    "ExecuteTime": {
     "end_time": "2020-04-23T12:38:54.661364Z",
     "start_time": "2020-04-23T12:38:54.654120Z"
    }
   },
   "outputs": [
    {
     "name": "stdout",
     "output_type": "stream",
     "text": [
      "0.4586648936705849\n"
     ]
    }
   ],
   "source": [
    "print(np.sqrt(np.mean((model.predict(X) - Y) ** 2)))"
   ]
  },
  {
   "cell_type": "markdown",
   "metadata": {},
   "source": [
    "For feature importance, the [Stackoverflow post](https://stackoverflow.com/questions/44101458/random-forest-feature-importance-chart-using-python) was used as a reference"
   ]
  },
  {
   "cell_type": "code",
   "execution_count": 55,
   "metadata": {
    "ExecuteTime": {
     "end_time": "2020-04-23T12:38:55.172475Z",
     "start_time": "2020-04-23T12:38:54.663826Z"
    }
   },
   "outputs": [
    {
     "data": {
      "image/png": "[encoded data removed]",
      "text/plain": [
       "<Figure size 576x288 with 1 Axes>"
      ]
     },
     "metadata": {
      "needs_background": "light"
     },
     "output_type": "display_data"
    }
   ],
   "source": [
    "features = X.columns\n",
    "importances = model.feature_importances_\n",
    "indices = np.argsort(importances)\n",
    "\n",
    "rc(\"font\", **{\"family\": \"sans-serif\", \"sans-serif\": [\"DejaVu Sans\"]})\n",
    "rc(\"text\", usetex=False)\n",
    "\n",
    "plt.figure(figsize=(8, 4))\n",
    "plt.barh(range(len(indices)), importances[indices], align=\"center\")\n",
    "plt.yticks(range(len(indices)), [mapper[features[i]] for i in indices])\n",
    "plt.xlabel(\"Relative Importance\")\n",
    "plt.savefig(\"tree3.pdf\", dpi=600, bbox_inches=\"tight\")\n",
    "plt.show()"
   ]
  },
  {
   "cell_type": "code",
   "execution_count": 56,
   "metadata": {
    "ExecuteTime": {
     "end_time": "2020-04-23T12:38:55.763755Z",
     "start_time": "2020-04-23T12:38:55.175018Z"
    }
   },
   "outputs": [
    {
     "data": {
      "image/png": "[encoded data removed]",
      "text/plain": [
       "<Figure size 576x288 with 2 Axes>"
      ]
     },
     "metadata": {
      "needs_background": "light"
     },
     "output_type": "display_data"
    }
   ],
   "source": [
    "corrections = pd.DataFrame({\"x\": X.N, \"y\": X.Z, \"c\": model.predict(X)})\n",
    "\n",
    "rc(\"font\", **{\"family\": \"sans-serif\", \"sans-serif\": [\"DejaVu Sans\"]})\n",
    "rc(\"text\", usetex=False)\n",
    "\n",
    "plt.figure(figsize=(8, 4))\n",
    "plt.scatter(corrections.x, corrections.y, c=corrections.c, s=0.5, cmap=plt.cm.tab20)\n",
    "plt.xlabel(\"N\")\n",
    "plt.ylabel(\"Z\")\n",
    "plt.xticks([20, 28, 50, 82, 100, 126, 150])\n",
    "plt.yticks([20, 28, 50, 82, 100])\n",
    "plt.grid()\n",
    "plt.colorbar()\n",
    "plt.savefig(\"corrections_chart_liquid_drop.pdf\", dpi=1200, bbox_inches=\"tight\")\n",
    "plt.show()"
   ]
  },
  {
   "cell_type": "markdown",
   "metadata": {},
   "source": [
    "## DZ10"
   ]
  },
  {
   "cell_type": "code",
   "execution_count": 57,
   "metadata": {
    "ExecuteTime": {
     "end_time": "2020-04-23T12:38:55.789796Z",
     "start_time": "2020-04-23T12:38:55.766332Z"
    }
   },
   "outputs": [
    {
     "data": {
      "text/html": [
       "<div>\n",
       "<style scoped>\n",
       "    .dataframe tbody tr th:only-of-type {\n",
       "        vertical-align: middle;\n",
       "    }\n",
       "\n",
       "    .dataframe tbody tr th {\n",
       "        vertical-align: top;\n",
       "    }\n",
       "\n",
       "    .dataframe thead th {\n",
       "        text-align: right;\n",
       "    }\n",
       "</style>\n",
       "<table border=\"1\" class=\"dataframe\">\n",
       "  <thead>\n",
       "    <tr style=\"text-align: right;\">\n",
       "      <th></th>\n",
       "      <th>A</th>\n",
       "      <th>N</th>\n",
       "      <th>Z</th>\n",
       "      <th>Residual (MEV)</th>\n",
       "    </tr>\n",
       "  </thead>\n",
       "  <tbody>\n",
       "    <tr>\n",
       "      <th>0</th>\n",
       "      <td>15</td>\n",
       "      <td>10</td>\n",
       "      <td>5</td>\n",
       "      <td>1.136133</td>\n",
       "    </tr>\n",
       "    <tr>\n",
       "      <th>1</th>\n",
       "      <td>15</td>\n",
       "      <td>9</td>\n",
       "      <td>6</td>\n",
       "      <td>0.651858</td>\n",
       "    </tr>\n",
       "    <tr>\n",
       "      <th>2</th>\n",
       "      <td>15</td>\n",
       "      <td>8</td>\n",
       "      <td>7</td>\n",
       "      <td>0.254488</td>\n",
       "    </tr>\n",
       "    <tr>\n",
       "      <th>3</th>\n",
       "      <td>15</td>\n",
       "      <td>7</td>\n",
       "      <td>8</td>\n",
       "      <td>0.166684</td>\n",
       "    </tr>\n",
       "    <tr>\n",
       "      <th>4</th>\n",
       "      <td>15</td>\n",
       "      <td>6</td>\n",
       "      <td>9</td>\n",
       "      <td>2.052728</td>\n",
       "    </tr>\n",
       "  </tbody>\n",
       "</table>\n",
       "</div>"
      ],
      "text/plain": [
       "    A   N  Z  Residual (MEV)\n",
       "0  15  10  5        1.136133\n",
       "1  15   9  6        0.651858\n",
       "2  15   8  7        0.254488\n",
       "3  15   7  8        0.166684\n",
       "4  15   6  9        2.052728"
      ]
     },
     "execution_count": 57,
     "metadata": {},
     "output_type": "execute_result"
    }
   ],
   "source": [
    "import pandas as pd\n",
    "\n",
    "f = open(\"residuals.dat\", \"r\")\n",
    "content = f.readlines()\n",
    "f.close()\n",
    "\n",
    "data = {\n",
    "    \"A\": [int(i[9:13]) for i in content[1:]],\n",
    "    \"N\": [int(i[21:24]) for i in content[1:]],\n",
    "    \"Z\": [int(i[33:36]) for i in content[1:]],\n",
    "    \"Residual (MEV)\": [float(i[36:].strip()) for i in content[1:]],\n",
    "}\n",
    "\n",
    "train = pd.DataFrame(data)\n",
    "train.head()"
   ]
  },
  {
   "cell_type": "code",
   "execution_count": 58,
   "metadata": {
    "ExecuteTime": {
     "end_time": "2020-04-23T12:38:55.798415Z",
     "start_time": "2020-04-23T12:38:55.792133Z"
    }
   },
   "outputs": [
    {
     "name": "stdout",
     "output_type": "stream",
     "text": [
      "0.002690832231143599\n",
      "0.5719458916369262\n"
     ]
    }
   ],
   "source": [
    "import numpy as np\n",
    "\n",
    "print(np.mean(train[\"Residual (MEV)\"]))\n",
    "print(np.std(train[\"Residual (MEV)\"]))"
   ]
  },
  {
   "cell_type": "code",
   "execution_count": 59,
   "metadata": {
    "ExecuteTime": {
     "end_time": "2020-04-23T12:39:26.223110Z",
     "start_time": "2020-04-23T12:38:55.801198Z"
    }
   },
   "outputs": [
    {
     "name": "stdout",
     "output_type": "stream",
     "text": [
      "100%|██████████| 499/499 [00:30<00:00, 16.54trial/s, best loss: 0.3237815744219317] \n",
      "11\n"
     ]
    },
    {
     "data": {
      "text/html": [
       "<div>\n",
       "<style scoped>\n",
       "    .dataframe tbody tr th:only-of-type {\n",
       "        vertical-align: middle;\n",
       "    }\n",
       "\n",
       "    .dataframe tbody tr th {\n",
       "        vertical-align: top;\n",
       "    }\n",
       "\n",
       "    .dataframe thead th {\n",
       "        text-align: right;\n",
       "    }\n",
       "</style>\n",
       "<table border=\"1\" class=\"dataframe\">\n",
       "  <thead>\n",
       "    <tr style=\"text-align: right;\">\n",
       "      <th></th>\n",
       "      <th>MSE_mean</th>\n",
       "      <th>MSE_std</th>\n",
       "      <th>max_leaf_nodes</th>\n",
       "    </tr>\n",
       "  </thead>\n",
       "  <tbody>\n",
       "    <tr>\n",
       "      <th>242</th>\n",
       "      <td>0.323782</td>\n",
       "      <td>0.151691</td>\n",
       "      <td>11</td>\n",
       "    </tr>\n",
       "    <tr>\n",
       "      <th>344</th>\n",
       "      <td>0.325608</td>\n",
       "      <td>0.150315</td>\n",
       "      <td>12</td>\n",
       "    </tr>\n",
       "    <tr>\n",
       "      <th>301</th>\n",
       "      <td>0.325608</td>\n",
       "      <td>0.150315</td>\n",
       "      <td>13</td>\n",
       "    </tr>\n",
       "    <tr>\n",
       "      <th>114</th>\n",
       "      <td>0.340072</td>\n",
       "      <td>0.140624</td>\n",
       "      <td>15</td>\n",
       "    </tr>\n",
       "    <tr>\n",
       "      <th>219</th>\n",
       "      <td>0.340072</td>\n",
       "      <td>0.140624</td>\n",
       "      <td>16</td>\n",
       "    </tr>\n",
       "    <tr>\n",
       "      <th>304</th>\n",
       "      <td>0.340072</td>\n",
       "      <td>0.140624</td>\n",
       "      <td>14</td>\n",
       "    </tr>\n",
       "    <tr>\n",
       "      <th>45</th>\n",
       "      <td>0.341245</td>\n",
       "      <td>0.139865</td>\n",
       "      <td>17</td>\n",
       "    </tr>\n",
       "    <tr>\n",
       "      <th>44</th>\n",
       "      <td>0.341245</td>\n",
       "      <td>0.139865</td>\n",
       "      <td>18</td>\n",
       "    </tr>\n",
       "    <tr>\n",
       "      <th>456</th>\n",
       "      <td>0.348728</td>\n",
       "      <td>0.135844</td>\n",
       "      <td>21</td>\n",
       "    </tr>\n",
       "    <tr>\n",
       "      <th>362</th>\n",
       "      <td>0.348728</td>\n",
       "      <td>0.135844</td>\n",
       "      <td>26</td>\n",
       "    </tr>\n",
       "  </tbody>\n",
       "</table>\n",
       "</div>"
      ],
      "text/plain": [
       "     MSE_mean   MSE_std  max_leaf_nodes\n",
       "242  0.323782  0.151691              11\n",
       "344  0.325608  0.150315              12\n",
       "301  0.325608  0.150315              13\n",
       "114  0.340072  0.140624              15\n",
       "219  0.340072  0.140624              16\n",
       "304  0.340072  0.140624              14\n",
       "45   0.341245  0.139865              17\n",
       "44   0.341245  0.139865              18\n",
       "456  0.348728  0.135844              21\n",
       "362  0.348728  0.135844              26"
      ]
     },
     "execution_count": 59,
     "metadata": {},
     "output_type": "execute_result"
    }
   ],
   "source": [
    "from hyperopt import hp\n",
    "from hyperopt import fmin\n",
    "from hyperopt import tpe\n",
    "from hyperopt import STATUS_OK\n",
    "from hyperopt import Trials\n",
    "from sklearn.tree import DecisionTreeRegressor\n",
    "from sklearn.model_selection import cross_val_score\n",
    "\n",
    "\n",
    "np.random.seed(2020)\n",
    "Y = train[\"Residual (MEV)\"].ravel()\n",
    "X = train.drop([\"Residual (MEV)\"], axis=1)\n",
    "X[\"Z_even\"] = [i % 2 for i in X[\"Z\"]]\n",
    "X[\"N_even\"] = [i % 2 for i in X[\"N\"]]\n",
    "X[\"N_Z\"] = X[\"N\"] - X[\"Z\"]\n",
    "X[\"N_on_Z\"] = X[\"N\"] / X[\"Z\"]\n",
    "X[\"Z_A\"] = X[\"Z\"] / X[\"A\"]\n",
    "X[\"N_A\"] = X[\"N\"] / X[\"A\"]\n",
    "\n",
    "space = {\n",
    "    \"max_leaf_nodes\": hp.choice(\"max_leaf_nodes\", list(range(2, 501))),\n",
    "}\n",
    "\n",
    "\n",
    "def objective(space):\n",
    "    model = DecisionTreeRegressor(\n",
    "        random_state=2020, max_leaf_nodes=int(space[\"max_leaf_nodes\"])\n",
    "    )\n",
    "    mse = cross_val_score(model, X, Y, cv=3, scoring=\"neg_mean_squared_error\")\n",
    "    return {\n",
    "        \"loss\": -mse.mean(),\n",
    "        \"std\": mse.std(),\n",
    "        \"status\": STATUS_OK,\n",
    "    }\n",
    "\n",
    "\n",
    "trials = Trials()\n",
    "best = fmin(fn=objective, space=space, algo=tpe.suggest, max_evals=499, trials=trials)\n",
    "print(list(range(2, 501))[best[\"max_leaf_nodes\"]])\n",
    "\n",
    "\n",
    "performance = pd.DataFrame(\n",
    "    {\"max_leaf_nodes\": [list(range(2, 501))[i] for i in trials.vals[\"max_leaf_nodes\"]]}\n",
    ")\n",
    "performance[\"MSE_mean\"] = [i[\"loss\"] for i in trials.results]\n",
    "performance[\"MSE_std\"] = [i[\"std\"] for i in trials.results]\n",
    "performance = performance[[\"MSE_mean\", \"MSE_std\", \"max_leaf_nodes\"]]\n",
    "performance = performance.sort_values(by=\"MSE_mean\")\n",
    "performance.drop_duplicates(inplace=True)\n",
    "performance.head(n=10)"
   ]
  },
  {
   "cell_type": "markdown",
   "metadata": {},
   "source": [
    "Error on unseen data:"
   ]
  },
  {
   "cell_type": "code",
   "execution_count": 60,
   "metadata": {
    "ExecuteTime": {
     "end_time": "2020-04-23T12:39:26.232168Z",
     "start_time": "2020-04-23T12:39:26.225327Z"
    }
   },
   "outputs": [
    {
     "name": "stdout",
     "output_type": "stream",
     "text": [
      "0.569018079169662\n"
     ]
    }
   ],
   "source": [
    "print(list(np.sqrt(performance[\"MSE_mean\"]))[0])"
   ]
  },
  {
   "cell_type": "code",
   "execution_count": 61,
   "metadata": {
    "ExecuteTime": {
     "end_time": "2020-04-23T12:39:26.429867Z",
     "start_time": "2020-04-23T12:39:26.235199Z"
    }
   },
   "outputs": [
    {
     "data": {
      "image/png": "[encoded data removed]",
      "text/plain": [
       "<Figure size 576x288 with 1 Axes>"
      ]
     },
     "metadata": {
      "needs_background": "light"
     },
     "output_type": "display_data"
    }
   ],
   "source": [
    "temp = performance.sort_values(\"max_leaf_nodes\")\n",
    "\n",
    "rc(\"font\", **{\"family\": \"sans-serif\", \"sans-serif\": [\"DejaVu Sans\"]})\n",
    "rc(\"text\", usetex=False)\n",
    "\n",
    "plt.figure(figsize=(8, 4))\n",
    "plt.xlabel(\"Leaf Number\")\n",
    "plt.ylabel(\"MSE\")\n",
    "plt.plot(temp.max_leaf_nodes, temp.MSE_mean)\n",
    "plt.show()"
   ]
  },
  {
   "cell_type": "code",
   "execution_count": 62,
   "metadata": {
    "ExecuteTime": {
     "end_time": "2020-04-23T12:39:27.782876Z",
     "start_time": "2020-04-23T12:39:26.432251Z"
    }
   },
   "outputs": [
    {
     "data": {
      "image/png": "[encoded data removed]",
      "text/plain": [
       "<Figure size 360x360 with 1 Axes>"
      ]
     },
     "metadata": {
      "needs_background": "light"
     },
     "output_type": "display_data"
    }
   ],
   "source": [
    "rc(\"font\", **{\"family\": \"sans-serif\", \"sans-serif\": [\"DejaVu Sans\"]})\n",
    "rc(\"text\", usetex=False)\n",
    "\n",
    "model = DecisionTreeRegressor(\n",
    "    random_state=2019, max_leaf_nodes=list(range(2, 501))[best[\"max_leaf_nodes\"]]\n",
    ").fit(X, Y)\n",
    "plt.figure(figsize=(5, 5))\n",
    "plot_tree(\n",
    "    model,\n",
    "    filled=False,\n",
    "    feature_names=[mapper[i] for i in list(X.columns)],\n",
    "    rounded=True,\n",
    "    impurity=False,\n",
    ")\n",
    "plt.savefig(\"tree4.pdf\", dpi=600, bbox_inches=\"tight\")\n",
    "plt.show()"
   ]
  },
  {
   "cell_type": "markdown",
   "metadata": {},
   "source": [
    "Training error:"
   ]
  },
  {
   "cell_type": "code",
   "execution_count": 63,
   "metadata": {
    "ExecuteTime": {
     "end_time": "2020-04-23T12:39:27.792621Z",
     "start_time": "2020-04-23T12:39:27.785275Z"
    }
   },
   "outputs": [
    {
     "name": "stdout",
     "output_type": "stream",
     "text": [
      "0.4714311373914842\n"
     ]
    }
   ],
   "source": [
    "print(np.sqrt(np.mean((model.predict(X) - Y) ** 2)))"
   ]
  },
  {
   "cell_type": "code",
   "execution_count": 64,
   "metadata": {
    "ExecuteTime": {
     "end_time": "2020-04-23T12:39:28.274892Z",
     "start_time": "2020-04-23T12:39:27.794967Z"
    }
   },
   "outputs": [
    {
     "data": {
      "image/png": "[encoded data removed]",
      "text/plain": [
       "<Figure size 576x288 with 1 Axes>"
      ]
     },
     "metadata": {
      "needs_background": "light"
     },
     "output_type": "display_data"
    }
   ],
   "source": [
    "features = X.columns\n",
    "importances = model.feature_importances_\n",
    "indices = np.argsort(importances)\n",
    "\n",
    "rc(\"font\", **{\"family\": \"sans-serif\", \"sans-serif\": [\"DejaVu Sans\"]})\n",
    "rc(\"text\", usetex=False)\n",
    "\n",
    "plt.figure(figsize=(8, 4))\n",
    "plt.barh(range(len(indices)), importances[indices], align=\"center\")\n",
    "plt.yticks(range(len(indices)), [mapper[features[i]] for i in indices])\n",
    "plt.xlabel(\"Relative Importance\")\n",
    "plt.savefig(\"tree5.pdf\", dpi=600, bbox_inches=\"tight\")\n",
    "plt.show()"
   ]
  },
  {
   "cell_type": "code",
   "execution_count": 65,
   "metadata": {
    "ExecuteTime": {
     "end_time": "2020-04-23T12:39:28.870046Z",
     "start_time": "2020-04-23T12:39:28.277188Z"
    }
   },
   "outputs": [
    {
     "data": {
      "image/png": "[encoded data removed]",
      "text/plain": [
       "<Figure size 576x288 with 2 Axes>"
      ]
     },
     "metadata": {
      "needs_background": "light"
     },
     "output_type": "display_data"
    }
   ],
   "source": [
    "corrections = pd.DataFrame({\"x\": X.N, \"y\": X.Z, \"c\": model.predict(X)})\n",
    "\n",
    "rc(\"font\", **{\"family\": \"sans-serif\", \"sans-serif\": [\"DejaVu Sans\"]})\n",
    "rc(\"text\", usetex=False)\n",
    "\n",
    "plt.figure(figsize=(8, 4))\n",
    "plt.scatter(corrections.x, corrections.y, c=corrections.c, s=0.5, cmap=plt.cm.tab20)\n",
    "plt.xlabel(\"N\")\n",
    "plt.ylabel(\"Z\")\n",
    "plt.xticks([20, 28, 50, 82, 100, 126, 150])\n",
    "plt.yticks([20, 28, 50, 82, 100])\n",
    "plt.grid()\n",
    "plt.colorbar()\n",
    "plt.savefig(\"corrections_chart_dz10.pdf\", dpi=1200, bbox_inches=\"tight\")\n",
    "plt.show()"
   ]
  },
  {
   "cell_type": "markdown",
   "metadata": {},
   "source": [
    "## DZ10: Residues Plots"
   ]
  },
  {
   "cell_type": "code",
   "execution_count": 66,
   "metadata": {
    "ExecuteTime": {
     "end_time": "2020-04-23T12:39:28.877601Z",
     "start_time": "2020-04-23T12:39:28.872300Z"
    }
   },
   "outputs": [],
   "source": [
    "residues_dz10_with_tree = model.predict(X) - Y\n",
    "residues_dz10_without_tree = Y"
   ]
  },
  {
   "cell_type": "markdown",
   "metadata": {},
   "source": [
    "Using and adopting [the Stackoverflow post](https://stackoverflow.com/questions/20011122/fitting-a-normal-distribution-to-1d-data/20012350):"
   ]
  },
  {
   "cell_type": "code",
   "execution_count": 67,
   "metadata": {
    "ExecuteTime": {
     "end_time": "2020-04-23T12:39:29.190658Z",
     "start_time": "2020-04-23T12:39:28.880100Z"
    }
   },
   "outputs": [
    {
     "data": {
      "image/png": "[encoded data removed]",
      "text/plain": [
       "<Figure size 576x288 with 1 Axes>"
      ]
     },
     "metadata": {
      "needs_background": "light"
     },
     "output_type": "display_data"
    }
   ],
   "source": [
    "from scipy.stats import norm\n",
    "\n",
    "rc(\"font\", **{\"family\": \"sans-serif\", \"sans-serif\": [\"DejaVu Sans\"]})\n",
    "rc(\"text\", usetex=False)\n",
    "\n",
    "plt.figure(figsize=(8, 4))\n",
    "plt.xlim((-2.7, 2.7))\n",
    "plt.xlabel(\"Residues [MeV]\")\n",
    "n, bins, patches = plt.hist(\n",
    "    residues_dz10_without_tree, bins=30, alpha=0.5, density=True, label=\"DZ10\"\n",
    ")\n",
    "p = norm.pdf(\n",
    "    np.linspace(-3, 3, 100),\n",
    "    np.mean(residues_dz10_without_tree),\n",
    "    np.std(residues_dz10_without_tree),\n",
    ")\n",
    "plt.plot(np.linspace(-3, 3, 100), p, \"k\", linewidth=2)\n",
    "plt.hist(\n",
    "    residues_dz10_with_tree, bins=bins, alpha=0.5, density=True, label=\"DZ10 with tree\"\n",
    ")\n",
    "p = norm.pdf(\n",
    "    np.linspace(-3, 3, 100),\n",
    "    np.mean(residues_dz10_with_tree),\n",
    "    np.std(residues_dz10_with_tree),\n",
    ")\n",
    "plt.plot(np.linspace(-3, 3, 100), p, \"k\", linewidth=2)\n",
    "plt.legend()\n",
    "plt.show()"
   ]
  },
  {
   "cell_type": "markdown",
   "metadata": {},
   "source": [
    "To match the fit color to the default, the [color names are printed](https://stackoverflow.com/questions/42086276/get-default-line-colour-cycle):"
   ]
  },
  {
   "cell_type": "code",
   "execution_count": 68,
   "metadata": {
    "ExecuteTime": {
     "end_time": "2020-04-23T12:39:29.197866Z",
     "start_time": "2020-04-23T12:39:29.193209Z"
    }
   },
   "outputs": [
    {
     "name": "stdout",
     "output_type": "stream",
     "text": [
      "['#1f77b4', '#ff7f0e', '#2ca02c', '#d62728', '#9467bd', '#8c564b', '#e377c2', '#7f7f7f', '#bcbd22', '#17becf']\n"
     ]
    }
   ],
   "source": [
    "print(plt.rcParams[\"axes.prop_cycle\"].by_key()[\"color\"])"
   ]
  },
  {
   "cell_type": "code",
   "execution_count": 69,
   "metadata": {
    "ExecuteTime": {
     "end_time": "2020-04-23T12:39:29.834235Z",
     "start_time": "2020-04-23T12:39:29.200437Z"
    }
   },
   "outputs": [
    {
     "data": {
      "image/png": "[encoded data removed]",
      "text/plain": [
       "<Figure size 576x288 with 1 Axes>"
      ]
     },
     "metadata": {
      "needs_background": "light"
     },
     "output_type": "display_data"
    }
   ],
   "source": [
    "rc(\"font\", **{\"family\": \"sans-serif\", \"sans-serif\": [\"DejaVu Sans\"]})\n",
    "rc(\"text\", usetex=False)\n",
    "\n",
    "plt.figure(figsize=(8, 4))\n",
    "plt.xlim((-2.7, 2.7))\n",
    "plt.xlabel(\"Residues [MeV]\")\n",
    "n, bins, patches = plt.hist(\n",
    "    residues_dz10_without_tree, bins=30, alpha=0.5, density=True, label=\"DZ10\"\n",
    ")\n",
    "p = norm.pdf(\n",
    "    np.linspace(-3, 3, 100),\n",
    "    np.mean(residues_dz10_without_tree),\n",
    "    np.std(residues_dz10_without_tree),\n",
    ")\n",
    "plt.plot(np.linspace(-3, 3, 100), p, \"#1f77b4\", linewidth=2.5)\n",
    "plt.hist(\n",
    "    residues_dz10_with_tree, bins=bins, alpha=0.5, density=True, label=\"DZ10 with tree\"\n",
    ")\n",
    "p = norm.pdf(\n",
    "    np.linspace(-3, 3, 100),\n",
    "    np.mean(residues_dz10_with_tree),\n",
    "    np.std(residues_dz10_with_tree),\n",
    ")\n",
    "plt.plot(np.linspace(-3, 3, 100), p, \"#ff7f0e\", linewidth=2.5)\n",
    "plt.legend()\n",
    "plt.savefig(\"histo.pdf\", dpi=600, bbox_inches=\"tight\")\n",
    "plt.show()"
   ]
  },
  {
   "cell_type": "code",
   "execution_count": null,
   "metadata": {},
   "outputs": [],
   "source": []
  }
 ],
 "metadata": {
  "kernelspec": {
   "display_name": "Python 3",
   "language": "python",
   "name": "python3"
  },
  "language_info": {
   "codemirror_mode": {
    "name": "ipython",
    "version": 3
   },
   "file_extension": ".py",
   "mimetype": "text/x-python",
   "name": "python",
   "nbconvert_exporter": "python",
   "pygments_lexer": "ipython3",
   "version": "3.8.2"
  },
  "toc": {
   "base_numbering": 1,
   "nav_menu": {},
   "number_sections": true,
   "sideBar": true,
   "skip_h1_title": false,
   "title_cell": "Table of Contents",
   "title_sidebar": "Contents",
   "toc_cell": true,
   "toc_position": {},
   "toc_section_display": true,
   "toc_window_display": false
  }
 },
 "nbformat": 4,
 "nbformat_minor": 2
}
